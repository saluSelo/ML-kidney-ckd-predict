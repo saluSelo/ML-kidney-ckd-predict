{
  "nbformat": 4,
  "nbformat_minor": 0,
  "metadata": {
    "colab": {
      "name": "final_project.ipynb",
      "provenance": [],
      "collapsed_sections": [],
      "authorship_tag": "ABX9TyO3ACGlMnrmy0mrz2XDIY7l",
      "include_colab_link": true
    },
    "kernelspec": {
      "display_name": "Python 3",
      "name": "python3"
    },
    "language_info": {
      "name": "python"
    }
  },
  "cells": [
    {
      "cell_type": "markdown",
      "metadata": {
        "id": "view-in-github",
        "colab_type": "text"
      },
      "source": [
        "<a href=\"https://colab.research.google.com/github/saluSelo/ML-kidney-ckd-predict/blob/main/final_project.ipynb\" target=\"_parent\"><img src=\"https://colab.research.google.com/assets/colab-badge.svg\" alt=\"Open In Colab\"/></a>"
      ]
    },
    {
      "cell_type": "markdown",
      "metadata": {
        "id": "wYQ7oJxjbP0V"
      },
      "source": [
        "# **Final Project **\n",
        "\n",
        "DATASET:\n",
        "\n",
        "The data was taken over a 2-month period in India with 25 features ( eg, red blood cell count, white blood cell count, etc). The target is the 'classification', which is either 'ckd' ( Chronic kidney disease )  or 'notckd' ( patient who not suffered by chronic kidney disease) \n",
        "\n",
        "\n",
        "my task is to predict if the patient is ckd or not"
      ]
    },
    {
      "cell_type": "markdown",
      "metadata": {
        "id": "ETUfVCY4dMMb"
      },
      "source": [
        "##Importing the necessary libraries to work in the data"
      ]
    },
    {
      "cell_type": "code",
      "metadata": {
        "id": "olDQuVD9GLgK"
      },
      "source": [
        "import tensorflow as tf\n",
        "import numpy as np \n",
        "import matplotlib.pyplot as plt\n",
        "from sklearn import metrics,model_selection,preprocessing,tree,svm,linear_model,feature_selection,neighbors\n",
        "import pandas as pd\n",
        "import seaborn as sns"
      ],
      "execution_count": null,
      "outputs": []
    },
    {
      "cell_type": "markdown",
      "metadata": {
        "id": "fOBBxJUsdqtz"
      },
      "source": [
        "##reading the dataset as csv"
      ]
    },
    {
      "cell_type": "code",
      "metadata": {
        "id": "mMP_w9nQGiiv"
      },
      "source": [
        "data=pd.read_csv('/content/kidney_disease.csv')\n"
      ],
      "execution_count": null,
      "outputs": []
    },
    {
      "cell_type": "markdown",
      "metadata": {
        "id": "7PvPyrpWdz-n"
      },
      "source": [
        "##Displaying the data and its information "
      ]
    },
    {
      "cell_type": "code",
      "metadata": {
        "colab": {
          "base_uri": "https://localhost:8080/",
          "height": 434
        },
        "id": "S-h3N7oYGnCy",
        "outputId": "328377b8-a272-449f-e1b2-d344a84e032f"
      },
      "source": [
        "data"
      ],
      "execution_count": null,
      "outputs": [
        {
          "output_type": "execute_result",
          "data": {
            "text/html": [
              "<div>\n",
              "<style scoped>\n",
              "    .dataframe tbody tr th:only-of-type {\n",
              "        vertical-align: middle;\n",
              "    }\n",
              "\n",
              "    .dataframe tbody tr th {\n",
              "        vertical-align: top;\n",
              "    }\n",
              "\n",
              "    .dataframe thead th {\n",
              "        text-align: right;\n",
              "    }\n",
              "</style>\n",
              "<table border=\"1\" class=\"dataframe\">\n",
              "  <thead>\n",
              "    <tr style=\"text-align: right;\">\n",
              "      <th></th>\n",
              "      <th>id</th>\n",
              "      <th>age</th>\n",
              "      <th>bp</th>\n",
              "      <th>sg</th>\n",
              "      <th>al</th>\n",
              "      <th>su</th>\n",
              "      <th>rbc</th>\n",
              "      <th>pc</th>\n",
              "      <th>pcc</th>\n",
              "      <th>ba</th>\n",
              "      <th>bgr</th>\n",
              "      <th>bu</th>\n",
              "      <th>sc</th>\n",
              "      <th>sod</th>\n",
              "      <th>pot</th>\n",
              "      <th>hemo</th>\n",
              "      <th>pcv</th>\n",
              "      <th>wc</th>\n",
              "      <th>rc</th>\n",
              "      <th>htn</th>\n",
              "      <th>dm</th>\n",
              "      <th>cad</th>\n",
              "      <th>appet</th>\n",
              "      <th>pe</th>\n",
              "      <th>ane</th>\n",
              "      <th>classification</th>\n",
              "    </tr>\n",
              "  </thead>\n",
              "  <tbody>\n",
              "    <tr>\n",
              "      <th>0</th>\n",
              "      <td>0</td>\n",
              "      <td>48.0</td>\n",
              "      <td>80.0</td>\n",
              "      <td>1.020</td>\n",
              "      <td>1.0</td>\n",
              "      <td>0.0</td>\n",
              "      <td>NaN</td>\n",
              "      <td>normal</td>\n",
              "      <td>notpresent</td>\n",
              "      <td>notpresent</td>\n",
              "      <td>121.0</td>\n",
              "      <td>36.0</td>\n",
              "      <td>1.2</td>\n",
              "      <td>NaN</td>\n",
              "      <td>NaN</td>\n",
              "      <td>15.4</td>\n",
              "      <td>44</td>\n",
              "      <td>7800</td>\n",
              "      <td>5.2</td>\n",
              "      <td>yes</td>\n",
              "      <td>yes</td>\n",
              "      <td>no</td>\n",
              "      <td>good</td>\n",
              "      <td>no</td>\n",
              "      <td>no</td>\n",
              "      <td>ckd</td>\n",
              "    </tr>\n",
              "    <tr>\n",
              "      <th>1</th>\n",
              "      <td>1</td>\n",
              "      <td>7.0</td>\n",
              "      <td>50.0</td>\n",
              "      <td>1.020</td>\n",
              "      <td>4.0</td>\n",
              "      <td>0.0</td>\n",
              "      <td>NaN</td>\n",
              "      <td>normal</td>\n",
              "      <td>notpresent</td>\n",
              "      <td>notpresent</td>\n",
              "      <td>NaN</td>\n",
              "      <td>18.0</td>\n",
              "      <td>0.8</td>\n",
              "      <td>NaN</td>\n",
              "      <td>NaN</td>\n",
              "      <td>11.3</td>\n",
              "      <td>38</td>\n",
              "      <td>6000</td>\n",
              "      <td>NaN</td>\n",
              "      <td>no</td>\n",
              "      <td>no</td>\n",
              "      <td>no</td>\n",
              "      <td>good</td>\n",
              "      <td>no</td>\n",
              "      <td>no</td>\n",
              "      <td>ckd</td>\n",
              "    </tr>\n",
              "    <tr>\n",
              "      <th>2</th>\n",
              "      <td>2</td>\n",
              "      <td>62.0</td>\n",
              "      <td>80.0</td>\n",
              "      <td>1.010</td>\n",
              "      <td>2.0</td>\n",
              "      <td>3.0</td>\n",
              "      <td>normal</td>\n",
              "      <td>normal</td>\n",
              "      <td>notpresent</td>\n",
              "      <td>notpresent</td>\n",
              "      <td>423.0</td>\n",
              "      <td>53.0</td>\n",
              "      <td>1.8</td>\n",
              "      <td>NaN</td>\n",
              "      <td>NaN</td>\n",
              "      <td>9.6</td>\n",
              "      <td>31</td>\n",
              "      <td>7500</td>\n",
              "      <td>NaN</td>\n",
              "      <td>no</td>\n",
              "      <td>yes</td>\n",
              "      <td>no</td>\n",
              "      <td>poor</td>\n",
              "      <td>no</td>\n",
              "      <td>yes</td>\n",
              "      <td>ckd</td>\n",
              "    </tr>\n",
              "    <tr>\n",
              "      <th>3</th>\n",
              "      <td>3</td>\n",
              "      <td>48.0</td>\n",
              "      <td>70.0</td>\n",
              "      <td>1.005</td>\n",
              "      <td>4.0</td>\n",
              "      <td>0.0</td>\n",
              "      <td>normal</td>\n",
              "      <td>abnormal</td>\n",
              "      <td>present</td>\n",
              "      <td>notpresent</td>\n",
              "      <td>117.0</td>\n",
              "      <td>56.0</td>\n",
              "      <td>3.8</td>\n",
              "      <td>111.0</td>\n",
              "      <td>2.5</td>\n",
              "      <td>11.2</td>\n",
              "      <td>32</td>\n",
              "      <td>6700</td>\n",
              "      <td>3.9</td>\n",
              "      <td>yes</td>\n",
              "      <td>no</td>\n",
              "      <td>no</td>\n",
              "      <td>poor</td>\n",
              "      <td>yes</td>\n",
              "      <td>yes</td>\n",
              "      <td>ckd</td>\n",
              "    </tr>\n",
              "    <tr>\n",
              "      <th>4</th>\n",
              "      <td>4</td>\n",
              "      <td>51.0</td>\n",
              "      <td>80.0</td>\n",
              "      <td>1.010</td>\n",
              "      <td>2.0</td>\n",
              "      <td>0.0</td>\n",
              "      <td>normal</td>\n",
              "      <td>normal</td>\n",
              "      <td>notpresent</td>\n",
              "      <td>notpresent</td>\n",
              "      <td>106.0</td>\n",
              "      <td>26.0</td>\n",
              "      <td>1.4</td>\n",
              "      <td>NaN</td>\n",
              "      <td>NaN</td>\n",
              "      <td>11.6</td>\n",
              "      <td>35</td>\n",
              "      <td>7300</td>\n",
              "      <td>4.6</td>\n",
              "      <td>no</td>\n",
              "      <td>no</td>\n",
              "      <td>no</td>\n",
              "      <td>good</td>\n",
              "      <td>no</td>\n",
              "      <td>no</td>\n",
              "      <td>ckd</td>\n",
              "    </tr>\n",
              "    <tr>\n",
              "      <th>...</th>\n",
              "      <td>...</td>\n",
              "      <td>...</td>\n",
              "      <td>...</td>\n",
              "      <td>...</td>\n",
              "      <td>...</td>\n",
              "      <td>...</td>\n",
              "      <td>...</td>\n",
              "      <td>...</td>\n",
              "      <td>...</td>\n",
              "      <td>...</td>\n",
              "      <td>...</td>\n",
              "      <td>...</td>\n",
              "      <td>...</td>\n",
              "      <td>...</td>\n",
              "      <td>...</td>\n",
              "      <td>...</td>\n",
              "      <td>...</td>\n",
              "      <td>...</td>\n",
              "      <td>...</td>\n",
              "      <td>...</td>\n",
              "      <td>...</td>\n",
              "      <td>...</td>\n",
              "      <td>...</td>\n",
              "      <td>...</td>\n",
              "      <td>...</td>\n",
              "      <td>...</td>\n",
              "    </tr>\n",
              "    <tr>\n",
              "      <th>395</th>\n",
              "      <td>395</td>\n",
              "      <td>55.0</td>\n",
              "      <td>80.0</td>\n",
              "      <td>1.020</td>\n",
              "      <td>0.0</td>\n",
              "      <td>0.0</td>\n",
              "      <td>normal</td>\n",
              "      <td>normal</td>\n",
              "      <td>notpresent</td>\n",
              "      <td>notpresent</td>\n",
              "      <td>140.0</td>\n",
              "      <td>49.0</td>\n",
              "      <td>0.5</td>\n",
              "      <td>150.0</td>\n",
              "      <td>4.9</td>\n",
              "      <td>15.7</td>\n",
              "      <td>47</td>\n",
              "      <td>6700</td>\n",
              "      <td>4.9</td>\n",
              "      <td>no</td>\n",
              "      <td>no</td>\n",
              "      <td>no</td>\n",
              "      <td>good</td>\n",
              "      <td>no</td>\n",
              "      <td>no</td>\n",
              "      <td>notckd</td>\n",
              "    </tr>\n",
              "    <tr>\n",
              "      <th>396</th>\n",
              "      <td>396</td>\n",
              "      <td>42.0</td>\n",
              "      <td>70.0</td>\n",
              "      <td>1.025</td>\n",
              "      <td>0.0</td>\n",
              "      <td>0.0</td>\n",
              "      <td>normal</td>\n",
              "      <td>normal</td>\n",
              "      <td>notpresent</td>\n",
              "      <td>notpresent</td>\n",
              "      <td>75.0</td>\n",
              "      <td>31.0</td>\n",
              "      <td>1.2</td>\n",
              "      <td>141.0</td>\n",
              "      <td>3.5</td>\n",
              "      <td>16.5</td>\n",
              "      <td>54</td>\n",
              "      <td>7800</td>\n",
              "      <td>6.2</td>\n",
              "      <td>no</td>\n",
              "      <td>no</td>\n",
              "      <td>no</td>\n",
              "      <td>good</td>\n",
              "      <td>no</td>\n",
              "      <td>no</td>\n",
              "      <td>notckd</td>\n",
              "    </tr>\n",
              "    <tr>\n",
              "      <th>397</th>\n",
              "      <td>397</td>\n",
              "      <td>12.0</td>\n",
              "      <td>80.0</td>\n",
              "      <td>1.020</td>\n",
              "      <td>0.0</td>\n",
              "      <td>0.0</td>\n",
              "      <td>normal</td>\n",
              "      <td>normal</td>\n",
              "      <td>notpresent</td>\n",
              "      <td>notpresent</td>\n",
              "      <td>100.0</td>\n",
              "      <td>26.0</td>\n",
              "      <td>0.6</td>\n",
              "      <td>137.0</td>\n",
              "      <td>4.4</td>\n",
              "      <td>15.8</td>\n",
              "      <td>49</td>\n",
              "      <td>6600</td>\n",
              "      <td>5.4</td>\n",
              "      <td>no</td>\n",
              "      <td>no</td>\n",
              "      <td>no</td>\n",
              "      <td>good</td>\n",
              "      <td>no</td>\n",
              "      <td>no</td>\n",
              "      <td>notckd</td>\n",
              "    </tr>\n",
              "    <tr>\n",
              "      <th>398</th>\n",
              "      <td>398</td>\n",
              "      <td>17.0</td>\n",
              "      <td>60.0</td>\n",
              "      <td>1.025</td>\n",
              "      <td>0.0</td>\n",
              "      <td>0.0</td>\n",
              "      <td>normal</td>\n",
              "      <td>normal</td>\n",
              "      <td>notpresent</td>\n",
              "      <td>notpresent</td>\n",
              "      <td>114.0</td>\n",
              "      <td>50.0</td>\n",
              "      <td>1.0</td>\n",
              "      <td>135.0</td>\n",
              "      <td>4.9</td>\n",
              "      <td>14.2</td>\n",
              "      <td>51</td>\n",
              "      <td>7200</td>\n",
              "      <td>5.9</td>\n",
              "      <td>no</td>\n",
              "      <td>no</td>\n",
              "      <td>no</td>\n",
              "      <td>good</td>\n",
              "      <td>no</td>\n",
              "      <td>no</td>\n",
              "      <td>notckd</td>\n",
              "    </tr>\n",
              "    <tr>\n",
              "      <th>399</th>\n",
              "      <td>399</td>\n",
              "      <td>58.0</td>\n",
              "      <td>80.0</td>\n",
              "      <td>1.025</td>\n",
              "      <td>0.0</td>\n",
              "      <td>0.0</td>\n",
              "      <td>normal</td>\n",
              "      <td>normal</td>\n",
              "      <td>notpresent</td>\n",
              "      <td>notpresent</td>\n",
              "      <td>131.0</td>\n",
              "      <td>18.0</td>\n",
              "      <td>1.1</td>\n",
              "      <td>141.0</td>\n",
              "      <td>3.5</td>\n",
              "      <td>15.8</td>\n",
              "      <td>53</td>\n",
              "      <td>6800</td>\n",
              "      <td>6.1</td>\n",
              "      <td>no</td>\n",
              "      <td>no</td>\n",
              "      <td>no</td>\n",
              "      <td>good</td>\n",
              "      <td>no</td>\n",
              "      <td>no</td>\n",
              "      <td>notckd</td>\n",
              "    </tr>\n",
              "  </tbody>\n",
              "</table>\n",
              "<p>400 rows × 26 columns</p>\n",
              "</div>"
            ],
            "text/plain": [
              "      id   age    bp     sg   al   su  ...   dm cad appet   pe  ane  classification\n",
              "0      0  48.0  80.0  1.020  1.0  0.0  ...  yes  no  good   no   no             ckd\n",
              "1      1   7.0  50.0  1.020  4.0  0.0  ...   no  no  good   no   no             ckd\n",
              "2      2  62.0  80.0  1.010  2.0  3.0  ...  yes  no  poor   no  yes             ckd\n",
              "3      3  48.0  70.0  1.005  4.0  0.0  ...   no  no  poor  yes  yes             ckd\n",
              "4      4  51.0  80.0  1.010  2.0  0.0  ...   no  no  good   no   no             ckd\n",
              "..   ...   ...   ...    ...  ...  ...  ...  ...  ..   ...  ...  ...             ...\n",
              "395  395  55.0  80.0  1.020  0.0  0.0  ...   no  no  good   no   no          notckd\n",
              "396  396  42.0  70.0  1.025  0.0  0.0  ...   no  no  good   no   no          notckd\n",
              "397  397  12.0  80.0  1.020  0.0  0.0  ...   no  no  good   no   no          notckd\n",
              "398  398  17.0  60.0  1.025  0.0  0.0  ...   no  no  good   no   no          notckd\n",
              "399  399  58.0  80.0  1.025  0.0  0.0  ...   no  no  good   no   no          notckd\n",
              "\n",
              "[400 rows x 26 columns]"
            ]
          },
          "metadata": {},
          "execution_count": 278
        }
      ]
    },
    {
      "cell_type": "markdown",
      "metadata": {
        "id": "H_FLs59eynwW"
      },
      "source": [
        "Dataset Information\n",
        "\n",
        "bp - blood pressure / sg - specific gravity / al - albumin / su - sugar /\n",
        " rbc - red blood cells / pc - pus cell / pcc - pus cell clumps / ba - bacteria\n",
        "\n",
        "\n",
        "\n",
        "bgr - blood glucose random / bu - blood urea / sc - serum creatinine /\n",
        "sod - sodium / pot - potassium / hemo - hemoglobin / pcv - packed cell volume\n",
        "\n",
        "\n",
        "\n",
        "wc - white blood cell count / rc - red blood cell count / htn - hypertension /\n",
        "dm - diabetes mellitus / cad - coronary artery disease/ \n",
        "\n",
        "appet - appetite/pe - pedal edema /ane - anemia \n",
        "\n",
        "\n"
      ]
    },
    {
      "cell_type": "code",
      "metadata": {
        "colab": {
          "base_uri": "https://localhost:8080/"
        },
        "id": "BSvOON75pzhi",
        "outputId": "d8f30f16-9bed-418e-b31d-712256981c49"
      },
      "source": [
        "data.dtypes"
      ],
      "execution_count": null,
      "outputs": [
        {
          "output_type": "execute_result",
          "data": {
            "text/plain": [
              "id                  int64\n",
              "age               float64\n",
              "bp                float64\n",
              "sg                float64\n",
              "al                float64\n",
              "su                float64\n",
              "rbc                object\n",
              "pc                 object\n",
              "pcc                object\n",
              "ba                 object\n",
              "bgr               float64\n",
              "bu                float64\n",
              "sc                float64\n",
              "sod               float64\n",
              "pot               float64\n",
              "hemo              float64\n",
              "pcv                object\n",
              "wc                 object\n",
              "rc                 object\n",
              "htn                object\n",
              "dm                 object\n",
              "cad                object\n",
              "appet              object\n",
              "pe                 object\n",
              "ane                object\n",
              "classification     object\n",
              "dtype: object"
            ]
          },
          "metadata": {},
          "execution_count": 279
        }
      ]
    },
    {
      "cell_type": "code",
      "metadata": {
        "colab": {
          "base_uri": "https://localhost:8080/",
          "height": 837
        },
        "id": "LM4bW7MC__v0",
        "outputId": "cc76b8fa-036d-40de-c195-308d7a913f3f"
      },
      "source": [
        "data.hist(figsize=(10,10))"
      ],
      "execution_count": null,
      "outputs": [
        {
          "output_type": "execute_result",
          "data": {
            "text/plain": [
              "array([[<matplotlib.axes._subplots.AxesSubplot object at 0x7f8c11627210>,\n",
              "        <matplotlib.axes._subplots.AxesSubplot object at 0x7f8c181e5510>,\n",
              "        <matplotlib.axes._subplots.AxesSubplot object at 0x7f8c11715590>],\n",
              "       [<matplotlib.axes._subplots.AxesSubplot object at 0x7f8c153e2b90>,\n",
              "        <matplotlib.axes._subplots.AxesSubplot object at 0x7f8c1173fa10>,\n",
              "        <matplotlib.axes._subplots.AxesSubplot object at 0x7f8c1833c8d0>],\n",
              "       [<matplotlib.axes._subplots.AxesSubplot object at 0x7f8c167e0bd0>,\n",
              "        <matplotlib.axes._subplots.AxesSubplot object at 0x7f8c118d0c50>,\n",
              "        <matplotlib.axes._subplots.AxesSubplot object at 0x7f8c118d0050>],\n",
              "       [<matplotlib.axes._subplots.AxesSubplot object at 0x7f8c11960a50>,\n",
              "        <matplotlib.axes._subplots.AxesSubplot object at 0x7f8c11abe3d0>,\n",
              "        <matplotlib.axes._subplots.AxesSubplot object at 0x7f8c114a9b50>]],\n",
              "      dtype=object)"
            ]
          },
          "metadata": {},
          "execution_count": 280
        },
        {
          "output_type": "display_data",
          "data": {
            "image/png": "[encoded data removed]",
            "text/plain": [
              "<Figure size 720x720 with 12 Axes>"
            ]
          },
          "metadata": {
            "needs_background": "light"
          }
        }
      ]
    },
    {
      "cell_type": "code",
      "metadata": {
        "colab": {
          "base_uri": "https://localhost:8080/",
          "height": 314
        },
        "id": "gIkGd_4N9gIL",
        "outputId": "29324b0c-8a75-4de3-eb3c-66fc7bd6d836"
      },
      "source": [
        "data.describe()"
      ],
      "execution_count": null,
      "outputs": [
        {
          "output_type": "execute_result",
          "data": {
            "text/html": [
              "<div>\n",
              "<style scoped>\n",
              "    .dataframe tbody tr th:only-of-type {\n",
              "        vertical-align: middle;\n",
              "    }\n",
              "\n",
              "    .dataframe tbody tr th {\n",
              "        vertical-align: top;\n",
              "    }\n",
              "\n",
              "    .dataframe thead th {\n",
              "        text-align: right;\n",
              "    }\n",
              "</style>\n",
              "<table border=\"1\" class=\"dataframe\">\n",
              "  <thead>\n",
              "    <tr style=\"text-align: right;\">\n",
              "      <th></th>\n",
              "      <th>id</th>\n",
              "      <th>age</th>\n",
              "      <th>bp</th>\n",
              "      <th>sg</th>\n",
              "      <th>al</th>\n",
              "      <th>su</th>\n",
              "      <th>bgr</th>\n",
              "      <th>bu</th>\n",
              "      <th>sc</th>\n",
              "      <th>sod</th>\n",
              "      <th>pot</th>\n",
              "      <th>hemo</th>\n",
              "    </tr>\n",
              "  </thead>\n",
              "  <tbody>\n",
              "    <tr>\n",
              "      <th>count</th>\n",
              "      <td>400.000000</td>\n",
              "      <td>391.000000</td>\n",
              "      <td>388.000000</td>\n",
              "      <td>353.000000</td>\n",
              "      <td>354.000000</td>\n",
              "      <td>351.000000</td>\n",
              "      <td>356.000000</td>\n",
              "      <td>381.000000</td>\n",
              "      <td>383.000000</td>\n",
              "      <td>313.000000</td>\n",
              "      <td>312.000000</td>\n",
              "      <td>348.000000</td>\n",
              "    </tr>\n",
              "    <tr>\n",
              "      <th>mean</th>\n",
              "      <td>199.500000</td>\n",
              "      <td>51.483376</td>\n",
              "      <td>76.469072</td>\n",
              "      <td>1.017408</td>\n",
              "      <td>1.016949</td>\n",
              "      <td>0.450142</td>\n",
              "      <td>148.036517</td>\n",
              "      <td>57.425722</td>\n",
              "      <td>3.072454</td>\n",
              "      <td>137.528754</td>\n",
              "      <td>4.627244</td>\n",
              "      <td>12.526437</td>\n",
              "    </tr>\n",
              "    <tr>\n",
              "      <th>std</th>\n",
              "      <td>115.614301</td>\n",
              "      <td>17.169714</td>\n",
              "      <td>13.683637</td>\n",
              "      <td>0.005717</td>\n",
              "      <td>1.352679</td>\n",
              "      <td>1.099191</td>\n",
              "      <td>79.281714</td>\n",
              "      <td>50.503006</td>\n",
              "      <td>5.741126</td>\n",
              "      <td>10.408752</td>\n",
              "      <td>3.193904</td>\n",
              "      <td>2.912587</td>\n",
              "    </tr>\n",
              "    <tr>\n",
              "      <th>min</th>\n",
              "      <td>0.000000</td>\n",
              "      <td>2.000000</td>\n",
              "      <td>50.000000</td>\n",
              "      <td>1.005000</td>\n",
              "      <td>0.000000</td>\n",
              "      <td>0.000000</td>\n",
              "      <td>22.000000</td>\n",
              "      <td>1.500000</td>\n",
              "      <td>0.400000</td>\n",
              "      <td>4.500000</td>\n",
              "      <td>2.500000</td>\n",
              "      <td>3.100000</td>\n",
              "    </tr>\n",
              "    <tr>\n",
              "      <th>25%</th>\n",
              "      <td>99.750000</td>\n",
              "      <td>42.000000</td>\n",
              "      <td>70.000000</td>\n",
              "      <td>1.010000</td>\n",
              "      <td>0.000000</td>\n",
              "      <td>0.000000</td>\n",
              "      <td>99.000000</td>\n",
              "      <td>27.000000</td>\n",
              "      <td>0.900000</td>\n",
              "      <td>135.000000</td>\n",
              "      <td>3.800000</td>\n",
              "      <td>10.300000</td>\n",
              "    </tr>\n",
              "    <tr>\n",
              "      <th>50%</th>\n",
              "      <td>199.500000</td>\n",
              "      <td>55.000000</td>\n",
              "      <td>80.000000</td>\n",
              "      <td>1.020000</td>\n",
              "      <td>0.000000</td>\n",
              "      <td>0.000000</td>\n",
              "      <td>121.000000</td>\n",
              "      <td>42.000000</td>\n",
              "      <td>1.300000</td>\n",
              "      <td>138.000000</td>\n",
              "      <td>4.400000</td>\n",
              "      <td>12.650000</td>\n",
              "    </tr>\n",
              "    <tr>\n",
              "      <th>75%</th>\n",
              "      <td>299.250000</td>\n",
              "      <td>64.500000</td>\n",
              "      <td>80.000000</td>\n",
              "      <td>1.020000</td>\n",
              "      <td>2.000000</td>\n",
              "      <td>0.000000</td>\n",
              "      <td>163.000000</td>\n",
              "      <td>66.000000</td>\n",
              "      <td>2.800000</td>\n",
              "      <td>142.000000</td>\n",
              "      <td>4.900000</td>\n",
              "      <td>15.000000</td>\n",
              "    </tr>\n",
              "    <tr>\n",
              "      <th>max</th>\n",
              "      <td>399.000000</td>\n",
              "      <td>90.000000</td>\n",
              "      <td>180.000000</td>\n",
              "      <td>1.025000</td>\n",
              "      <td>5.000000</td>\n",
              "      <td>5.000000</td>\n",
              "      <td>490.000000</td>\n",
              "      <td>391.000000</td>\n",
              "      <td>76.000000</td>\n",
              "      <td>163.000000</td>\n",
              "      <td>47.000000</td>\n",
              "      <td>17.800000</td>\n",
              "    </tr>\n",
              "  </tbody>\n",
              "</table>\n",
              "</div>"
            ],
            "text/plain": [
              "               id         age          bp  ...         sod         pot        hemo\n",
              "count  400.000000  391.000000  388.000000  ...  313.000000  312.000000  348.000000\n",
              "mean   199.500000   51.483376   76.469072  ...  137.528754    4.627244   12.526437\n",
              "std    115.614301   17.169714   13.683637  ...   10.408752    3.193904    2.912587\n",
              "min      0.000000    2.000000   50.000000  ...    4.500000    2.500000    3.100000\n",
              "25%     99.750000   42.000000   70.000000  ...  135.000000    3.800000   10.300000\n",
              "50%    199.500000   55.000000   80.000000  ...  138.000000    4.400000   12.650000\n",
              "75%    299.250000   64.500000   80.000000  ...  142.000000    4.900000   15.000000\n",
              "max    399.000000   90.000000  180.000000  ...  163.000000   47.000000   17.800000\n",
              "\n",
              "[8 rows x 12 columns]"
            ]
          },
          "metadata": {},
          "execution_count": 281
        }
      ]
    },
    {
      "cell_type": "code",
      "metadata": {
        "colab": {
          "base_uri": "https://localhost:8080/"
        },
        "id": "dfJsqBUf9jC2",
        "outputId": "1d9b0c77-8e9e-484d-f588-5b621364417b"
      },
      "source": [
        "data.info()"
      ],
      "execution_count": null,
      "outputs": [
        {
          "output_type": "stream",
          "name": "stdout",
          "text": [
            "<class 'pandas.core.frame.DataFrame'>\n",
            "RangeIndex: 400 entries, 0 to 399\n",
            "Data columns (total 26 columns):\n",
            " #   Column          Non-Null Count  Dtype  \n",
            "---  ------          --------------  -----  \n",
            " 0   id              400 non-null    int64  \n",
            " 1   age             391 non-null    float64\n",
            " 2   bp              388 non-null    float64\n",
            " 3   sg              353 non-null    float64\n",
            " 4   al              354 non-null    float64\n",
            " 5   su              351 non-null    float64\n",
            " 6   rbc             248 non-null    object \n",
            " 7   pc              335 non-null    object \n",
            " 8   pcc             396 non-null    object \n",
            " 9   ba              396 non-null    object \n",
            " 10  bgr             356 non-null    float64\n",
            " 11  bu              381 non-null    float64\n",
            " 12  sc              383 non-null    float64\n",
            " 13  sod             313 non-null    float64\n",
            " 14  pot             312 non-null    float64\n",
            " 15  hemo            348 non-null    float64\n",
            " 16  pcv             330 non-null    object \n",
            " 17  wc              295 non-null    object \n",
            " 18  rc              270 non-null    object \n",
            " 19  htn             398 non-null    object \n",
            " 20  dm              398 non-null    object \n",
            " 21  cad             398 non-null    object \n",
            " 22  appet           399 non-null    object \n",
            " 23  pe              399 non-null    object \n",
            " 24  ane             399 non-null    object \n",
            " 25  classification  400 non-null    object \n",
            "dtypes: float64(11), int64(1), object(14)\n",
            "memory usage: 81.4+ KB\n"
          ]
        }
      ]
    },
    {
      "cell_type": "markdown",
      "metadata": {
        "id": "8KzI33kneT6t"
      },
      "source": [
        "##Cleaning the data"
      ]
    },
    {
      "cell_type": "markdown",
      "metadata": {
        "id": "UpKkOY5UemSv"
      },
      "source": [
        "###First of all, let's get rid of the unnecessary culomns\n"
      ]
    },
    {
      "cell_type": "code",
      "metadata": {
        "id": "wz6H5j48Y742"
      },
      "source": [
        "data.drop('id',axis=1,inplace=True)"
      ],
      "execution_count": null,
      "outputs": []
    },
    {
      "cell_type": "markdown",
      "metadata": {
        "id": "LMpyd62EfwvM"
      },
      "source": [
        "###Checking for the values of numerical and non-numerical columns to handle them"
      ]
    },
    {
      "cell_type": "code",
      "metadata": {
        "colab": {
          "base_uri": "https://localhost:8080/"
        },
        "id": "iYGJADrNIQmF",
        "outputId": "59781719-f74e-4a5b-f69f-4954990500c2"
      },
      "source": [
        "data['classification'].unique()"
      ],
      "execution_count": null,
      "outputs": [
        {
          "output_type": "execute_result",
          "data": {
            "text/plain": [
              "array(['ckd', 'ckd\\t', 'notckd'], dtype=object)"
            ]
          },
          "metadata": {},
          "execution_count": 284
        }
      ]
    },
    {
      "cell_type": "code",
      "metadata": {
        "id": "msZBDKKLIjE2"
      },
      "source": [
        "data['classification']=data['classification'].replace(to_replace={'ckd':1,'ckd\\t':1,'notckd':0})"
      ],
      "execution_count": null,
      "outputs": []
    },
    {
      "cell_type": "code",
      "metadata": {
        "colab": {
          "base_uri": "https://localhost:8080/"
        },
        "id": "1BzqXnIyOkfh",
        "outputId": "51806a23-83ee-4294-b39a-bf9966ffb08a"
      },
      "source": [
        "data.pc.unique()"
      ],
      "execution_count": null,
      "outputs": [
        {
          "output_type": "execute_result",
          "data": {
            "text/plain": [
              "array(['normal', 'abnormal', nan], dtype=object)"
            ]
          },
          "metadata": {},
          "execution_count": 286
        }
      ]
    },
    {
      "cell_type": "code",
      "metadata": {
        "colab": {
          "base_uri": "https://localhost:8080/"
        },
        "id": "yMA82-wTPMOT",
        "outputId": "d01eb51f-48a1-4caa-924c-377fd577c4e3"
      },
      "source": [
        "data.rbc.unique()"
      ],
      "execution_count": null,
      "outputs": [
        {
          "output_type": "execute_result",
          "data": {
            "text/plain": [
              "array([nan, 'normal', 'abnormal'], dtype=object)"
            ]
          },
          "metadata": {},
          "execution_count": 287
        }
      ]
    },
    {
      "cell_type": "code",
      "metadata": {
        "id": "y3u8A-3OqieU"
      },
      "source": [
        "data[['pc','rbc']] = data[['pc','rbc']].replace(to_replace={'abnormal':1,'normal':0})"
      ],
      "execution_count": null,
      "outputs": []
    },
    {
      "cell_type": "code",
      "metadata": {
        "colab": {
          "base_uri": "https://localhost:8080/"
        },
        "id": "6hEgYS9vrEMt",
        "outputId": "2c7c2aea-aad6-480e-ac09-bdf0afcc18a3"
      },
      "source": [
        "data.pcc.unique()"
      ],
      "execution_count": null,
      "outputs": [
        {
          "output_type": "execute_result",
          "data": {
            "text/plain": [
              "array(['notpresent', 'present', nan], dtype=object)"
            ]
          },
          "metadata": {},
          "execution_count": 289
        }
      ]
    },
    {
      "cell_type": "code",
      "metadata": {
        "colab": {
          "base_uri": "https://localhost:8080/"
        },
        "id": "lJBg2EEIrHBe",
        "outputId": "fa8fecd0-159b-40a1-d1ee-09f732f4d738"
      },
      "source": [
        "data.ba.unique()"
      ],
      "execution_count": null,
      "outputs": [
        {
          "output_type": "execute_result",
          "data": {
            "text/plain": [
              "array(['notpresent', 'present', nan], dtype=object)"
            ]
          },
          "metadata": {},
          "execution_count": 290
        }
      ]
    },
    {
      "cell_type": "code",
      "metadata": {
        "id": "dDlR_MNprLmL"
      },
      "source": [
        "data[['pcc','ba']] = data[['pcc','ba']].replace(to_replace={'present':1,'notpresent':0})"
      ],
      "execution_count": null,
      "outputs": []
    },
    {
      "cell_type": "code",
      "metadata": {
        "id": "6fCICOumr7zN"
      },
      "source": [
        "data[['htn','dm','cad','pe','ane']]=data[['htn','dm','cad','pe','ane']].replace(to_replace={'yes':1,'no':0,'\\tno':0,'\\tyes':1,'yes':1,' yes':1})"
      ],
      "execution_count": null,
      "outputs": []
    },
    {
      "cell_type": "code",
      "metadata": {
        "colab": {
          "base_uri": "https://localhost:8080/"
        },
        "id": "fD0ezoUbsY42",
        "outputId": "f6f04756-db3f-40a9-fb73-49b62417f3ac"
      },
      "source": [
        "data.appet.unique()"
      ],
      "execution_count": null,
      "outputs": [
        {
          "output_type": "execute_result",
          "data": {
            "text/plain": [
              "array(['good', 'poor', nan], dtype=object)"
            ]
          },
          "metadata": {},
          "execution_count": 293
        }
      ]
    },
    {
      "cell_type": "code",
      "metadata": {
        "id": "IkCFPxeSsI7Q"
      },
      "source": [
        "data['appet']=data['appet'].replace(to_replace={'good':1,'poor':0})"
      ],
      "execution_count": null,
      "outputs": []
    },
    {
      "cell_type": "code",
      "metadata": {
        "colab": {
          "base_uri": "https://localhost:8080/"
        },
        "id": "tULaVro4Rg7M",
        "outputId": "6206f340-f9ed-4e00-e796-a8fc05ea6d09"
      },
      "source": [
        "data.appet.unique()"
      ],
      "execution_count": null,
      "outputs": [
        {
          "output_type": "execute_result",
          "data": {
            "text/plain": [
              "array([ 1.,  0., nan])"
            ]
          },
          "metadata": {},
          "execution_count": 295
        }
      ]
    },
    {
      "cell_type": "markdown",
      "metadata": {
        "id": "PlFStF9q_r1b"
      },
      "source": [
        "###These columns are numercial, let's see their values"
      ]
    },
    {
      "cell_type": "code",
      "metadata": {
        "colab": {
          "base_uri": "https://localhost:8080/"
        },
        "id": "h2bMPVIojdTy",
        "outputId": "c8ff0297-fbb2-4dc6-cf9e-2d7ee37dcad3"
      },
      "source": [
        "data.rc.unique()"
      ],
      "execution_count": null,
      "outputs": [
        {
          "output_type": "execute_result",
          "data": {
            "text/plain": [
              "array(['5.2', nan, '3.9', '4.6', '4.4', '5', '4.0', '3.7', '3.8', '3.4',\n",
              "       '2.6', '2.8', '4.3', '3.2', '3.6', '4', '4.1', '4.9', '2.5', '4.2',\n",
              "       '4.5', '3.1', '4.7', '3.5', '6.0', '5.0', '2.1', '5.6', '2.3',\n",
              "       '2.9', '2.7', '8.0', '3.3', '3.0', '3', '2.4', '4.8', '\\t?', '5.4',\n",
              "       '6.1', '6.2', '6.3', '5.1', '5.8', '5.5', '5.3', '6.4', '5.7',\n",
              "       '5.9', '6.5'], dtype=object)"
            ]
          },
          "metadata": {},
          "execution_count": 296
        }
      ]
    },
    {
      "cell_type": "code",
      "metadata": {
        "colab": {
          "base_uri": "https://localhost:8080/"
        },
        "id": "XKCiQzbEl_VP",
        "outputId": "13b1fae9-d83b-4efd-e782-cdbe1613443e"
      },
      "source": [
        "data.wc.unique()"
      ],
      "execution_count": null,
      "outputs": [
        {
          "output_type": "execute_result",
          "data": {
            "text/plain": [
              "array(['7800', '6000', '7500', '6700', '7300', nan, '6900', '9600',\n",
              "       '12100', '4500', '12200', '11000', '3800', '11400', '5300', '9200',\n",
              "       '6200', '8300', '8400', '10300', '9800', '9100', '7900', '6400',\n",
              "       '8600', '18900', '21600', '4300', '8500', '11300', '7200', '7700',\n",
              "       '14600', '6300', '\\t6200', '7100', '11800', '9400', '5500', '5800',\n",
              "       '13200', '12500', '5600', '7000', '11900', '10400', '10700',\n",
              "       '12700', '6800', '6500', '13600', '10200', '9000', '14900', '8200',\n",
              "       '15200', '5000', '16300', '12400', '\\t8400', '10500', '4200',\n",
              "       '4700', '10900', '8100', '9500', '2200', '12800', '11200', '19100',\n",
              "       '\\t?', '12300', '16700', '2600', '26400', '8800', '7400', '4900',\n",
              "       '8000', '12000', '15700', '4100', '5700', '11500', '5400', '10800',\n",
              "       '9900', '5200', '5900', '9300', '9700', '5100', '6600'],\n",
              "      dtype=object)"
            ]
          },
          "metadata": {},
          "execution_count": 297
        }
      ]
    },
    {
      "cell_type": "code",
      "metadata": {
        "colab": {
          "base_uri": "https://localhost:8080/"
        },
        "id": "IMQ1vPOn_hvA",
        "outputId": "a3c3c04f-1333-4e6c-cfd1-1f70d35e5809"
      },
      "source": [
        "data.pcv.unique()"
      ],
      "execution_count": null,
      "outputs": [
        {
          "output_type": "execute_result",
          "data": {
            "text/plain": [
              "array(['44', '38', '31', '32', '35', '39', '36', '33', '29', '28', nan,\n",
              "       '16', '24', '37', '30', '34', '40', '45', '27', '48', '\\t?', '52',\n",
              "       '14', '22', '18', '42', '17', '46', '23', '19', '25', '41', '26',\n",
              "       '15', '21', '43', '20', '\\t43', '47', '9', '49', '50', '53', '51',\n",
              "       '54'], dtype=object)"
            ]
          },
          "metadata": {},
          "execution_count": 298
        }
      ]
    },
    {
      "cell_type": "code",
      "metadata": {
        "id": "uIbFZUbPoJkI"
      },
      "source": [
        " #notice that we have an extra characetrs, we have to get rid of them\n",
        " data['rc'] = data['rc'].str.extract('(\\d+)').astype(float)\n",
        " data['pcv'] = data['pcv'].str.extract('(\\d+)').astype(float)\n",
        " data['wc'] = data['wc'].str.extract('(\\d+)').astype(float)\n"
      ],
      "execution_count": null,
      "outputs": []
    },
    {
      "cell_type": "code",
      "metadata": {
        "colab": {
          "base_uri": "https://localhost:8080/"
        },
        "id": "OIe9cuybtCRu",
        "outputId": "b4d90ff8-cfc5-4416-a20d-ff647af14b38"
      },
      "source": [
        "data.rc.unique()\n"
      ],
      "execution_count": null,
      "outputs": [
        {
          "output_type": "execute_result",
          "data": {
            "text/plain": [
              "array([ 5., nan,  3.,  4.,  2.,  6.,  8.])"
            ]
          },
          "metadata": {},
          "execution_count": 300
        }
      ]
    },
    {
      "cell_type": "code",
      "metadata": {
        "colab": {
          "base_uri": "https://localhost:8080/"
        },
        "id": "zfb6b9vltJu2",
        "outputId": "787bd76b-0996-4a32-91e4-e3b9c6cc03c6"
      },
      "source": [
        "data.pcv.unique()"
      ],
      "execution_count": null,
      "outputs": [
        {
          "output_type": "execute_result",
          "data": {
            "text/plain": [
              "array([44., 38., 31., 32., 35., 39., 36., 33., 29., 28., nan, 16., 24.,\n",
              "       37., 30., 34., 40., 45., 27., 48., 52., 14., 22., 18., 42., 17.,\n",
              "       46., 23., 19., 25., 41., 26., 15., 21., 43., 20., 47.,  9., 49.,\n",
              "       50., 53., 51., 54.])"
            ]
          },
          "metadata": {},
          "execution_count": 301
        }
      ]
    },
    {
      "cell_type": "code",
      "metadata": {
        "colab": {
          "base_uri": "https://localhost:8080/"
        },
        "id": "Osv5Dv0atjh3",
        "outputId": "bd469ea2-0010-4cd0-9464-abf95afff59c"
      },
      "source": [
        "data.wc.unique()\n",
        "#great! they are out of extra characters"
      ],
      "execution_count": null,
      "outputs": [
        {
          "output_type": "execute_result",
          "data": {
            "text/plain": [
              "array([ 7800.,  6000.,  7500.,  6700.,  7300.,    nan,  6900.,  9600.,\n",
              "       12100.,  4500., 12200., 11000.,  3800., 11400.,  5300.,  9200.,\n",
              "        6200.,  8300.,  8400., 10300.,  9800.,  9100.,  7900.,  6400.,\n",
              "        8600., 18900., 21600.,  4300.,  8500., 11300.,  7200.,  7700.,\n",
              "       14600.,  6300.,  7100., 11800.,  9400.,  5500.,  5800., 13200.,\n",
              "       12500.,  5600.,  7000., 11900., 10400., 10700., 12700.,  6800.,\n",
              "        6500., 13600., 10200.,  9000., 14900.,  8200., 15200.,  5000.,\n",
              "       16300., 12400., 10500.,  4200.,  4700., 10900.,  8100.,  9500.,\n",
              "        2200., 12800., 11200., 19100., 12300., 16700.,  2600., 26400.,\n",
              "        8800.,  7400.,  4900.,  8000., 12000., 15700.,  4100.,  5700.,\n",
              "       11500.,  5400., 10800.,  9900.,  5200.,  5900.,  9300.,  9700.,\n",
              "        5100.,  6600.])"
            ]
          },
          "metadata": {},
          "execution_count": 302
        }
      ]
    },
    {
      "cell_type": "code",
      "metadata": {
        "id": "VjQ8KjPJhnC2"
      },
      "source": [
        "data_cat = data[['rbc','pc','pcc','ba','pcv','wc','rc','htn','dm','cad','appet','pe','ane']]\n"
      ],
      "execution_count": null,
      "outputs": []
    },
    {
      "cell_type": "code",
      "metadata": {
        "colab": {
          "base_uri": "https://localhost:8080/",
          "height": 1000
        },
        "id": "RAYkR0VPiOdq",
        "outputId": "d2a2cbb5-3e21-4a15-d4a3-96a3fe63db1d"
      },
      "source": [
        "for i in data_cat.columns:\n",
        "    sns.barplot(data_cat[i].value_counts().index,data_cat[i].value_counts()).set_title(i)\n",
        "    plt.show()"
      ],
      "execution_count": null,
      "outputs": [
        {
          "output_type": "stream",
          "name": "stderr",
          "text": [
            "/usr/local/lib/python3.7/dist-packages/seaborn/_decorators.py:43: FutureWarning: Pass the following variables as keyword args: x, y. From version 0.12, the only valid positional argument will be `data`, and passing other arguments without an explicit keyword will result in an error or misinterpretation.\n",
            "  FutureWarning\n"
          ]
        },
        {
          "output_type": "display_data",
          "data": {
            "image/png": "[encoded data removed]",
            "text/plain": [
              "<Figure size 432x288 with 1 Axes>"
            ]
          },
          "metadata": {
            "needs_background": "light"
          }
        },
        {
          "output_type": "stream",
          "name": "stderr",
          "text": [
            "/usr/local/lib/python3.7/dist-packages/seaborn/_decorators.py:43: FutureWarning: Pass the following variables as keyword args: x, y. From version 0.12, the only valid positional argument will be `data`, and passing other arguments without an explicit keyword will result in an error or misinterpretation.\n",
            "  FutureWarning\n"
          ]
        },
        {
          "output_type": "display_data",
          "data": {
            "image/png": "[encoded data removed]",
            "text/plain": [
              "<Figure size 432x288 with 1 Axes>"
            ]
          },
          "metadata": {
            "needs_background": "light"
          }
        },
        {
          "output_type": "stream",
          "name": "stderr",
          "text": [
            "/usr/local/lib/python3.7/dist-packages/seaborn/_decorators.py:43: FutureWarning: Pass the following variables as keyword args: x, y. From version 0.12, the only valid positional argument will be `data`, and passing other arguments without an explicit keyword will result in an error or misinterpretation.\n",
            "  FutureWarning\n"
          ]
        },
        {
          "output_type": "display_data",
          "data": {
            "image/png": "[encoded data removed]",
            "text/plain": [
              "<Figure size 432x288 with 1 Axes>"
            ]
          },
          "metadata": {
            "needs_background": "light"
          }
        },
        {
          "output_type": "stream",
          "name": "stderr",
          "text": [
            "/usr/local/lib/python3.7/dist-packages/seaborn/_decorators.py:43: FutureWarning: Pass the following variables as keyword args: x, y. From version 0.12, the only valid positional argument will be `data`, and passing other arguments without an explicit keyword will result in an error or misinterpretation.\n",
            "  FutureWarning\n"
          ]
        },
        {
          "output_type": "display_data",
          "data": {
            "image/png": "[encoded data removed]",
            "text/plain": [
              "<Figure size 432x288 with 1 Axes>"
            ]
          },
          "metadata": {
            "needs_background": "light"
          }
        },
        {
          "output_type": "stream",
          "name": "stderr",
          "text": [
            "/usr/local/lib/python3.7/dist-packages/seaborn/_decorators.py:43: FutureWarning: Pass the following variables as keyword args: x, y. From version 0.12, the only valid positional argument will be `data`, and passing other arguments without an explicit keyword will result in an error or misinterpretation.\n",
            "  FutureWarning\n"
          ]
        },
        {
          "output_type": "display_data",
          "data": {
            "image/png": "[encoded data removed]",
            "text/plain": [
              "<Figure size 432x288 with 1 Axes>"
            ]
          },
          "metadata": {
            "needs_background": "light"
          }
        },
        {
          "output_type": "stream",
          "name": "stderr",
          "text": [
            "/usr/local/lib/python3.7/dist-packages/seaborn/_decorators.py:43: FutureWarning: Pass the following variables as keyword args: x, y. From version 0.12, the only valid positional argument will be `data`, and passing other arguments without an explicit keyword will result in an error or misinterpretation.\n",
            "  FutureWarning\n"
          ]
        },
        {
          "output_type": "display_data",
          "data": {
            "image/png": "[encoded data removed]",
            "text/plain": [
              "<Figure size 432x288 with 1 Axes>"
            ]
          },
          "metadata": {
            "needs_background": "light"
          }
        },
        {
          "output_type": "stream",
          "name": "stderr",
          "text": [
            "/usr/local/lib/python3.7/dist-packages/seaborn/_decorators.py:43: FutureWarning: Pass the following variables as keyword args: x, y. From version 0.12, the only valid positional argument will be `data`, and passing other arguments without an explicit keyword will result in an error or misinterpretation.\n",
            "  FutureWarning\n"
          ]
        },
        {
          "output_type": "display_data",
          "data": {
            "image/png": "[encoded data removed]",
            "text/plain": [
              "<Figure size 432x288 with 1 Axes>"
            ]
          },
          "metadata": {
            "needs_background": "light"
          }
        },
        {
          "output_type": "stream",
          "name": "stderr",
          "text": [
            "/usr/local/lib/python3.7/dist-packages/seaborn/_decorators.py:43: FutureWarning: Pass the following variables as keyword args: x, y. From version 0.12, the only valid positional argument will be `data`, and passing other arguments without an explicit keyword will result in an error or misinterpretation.\n",
            "  FutureWarning\n"
          ]
        },
        {
          "output_type": "display_data",
          "data": {
            "image/png": "[encoded data removed]",
            "text/plain": [
              "<Figure size 432x288 with 1 Axes>"
            ]
          },
          "metadata": {
            "needs_background": "light"
          }
        },
        {
          "output_type": "stream",
          "name": "stderr",
          "text": [
            "/usr/local/lib/python3.7/dist-packages/seaborn/_decorators.py:43: FutureWarning: Pass the following variables as keyword args: x, y. From version 0.12, the only valid positional argument will be `data`, and passing other arguments without an explicit keyword will result in an error or misinterpretation.\n",
            "  FutureWarning\n"
          ]
        },
        {
          "output_type": "display_data",
          "data": {
            "image/png": "[encoded data removed]",
            "text/plain": [
              "<Figure size 432x288 with 1 Axes>"
            ]
          },
          "metadata": {
            "needs_background": "light"
          }
        },
        {
          "output_type": "stream",
          "name": "stderr",
          "text": [
            "/usr/local/lib/python3.7/dist-packages/seaborn/_decorators.py:43: FutureWarning: Pass the following variables as keyword args: x, y. From version 0.12, the only valid positional argument will be `data`, and passing other arguments without an explicit keyword will result in an error or misinterpretation.\n",
            "  FutureWarning\n"
          ]
        },
        {
          "output_type": "display_data",
          "data": {
            "image/png": "[encoded data removed]",
            "text/plain": [
              "<Figure size 432x288 with 1 Axes>"
            ]
          },
          "metadata": {
            "needs_background": "light"
          }
        },
        {
          "output_type": "stream",
          "name": "stderr",
          "text": [
            "/usr/local/lib/python3.7/dist-packages/seaborn/_decorators.py:43: FutureWarning: Pass the following variables as keyword args: x, y. From version 0.12, the only valid positional argument will be `data`, and passing other arguments without an explicit keyword will result in an error or misinterpretation.\n",
            "  FutureWarning\n"
          ]
        },
        {
          "output_type": "display_data",
          "data": {
            "image/png": "[encoded data removed]",
            "text/plain": [
              "<Figure size 432x288 with 1 Axes>"
            ]
          },
          "metadata": {
            "needs_background": "light"
          }
        },
        {
          "output_type": "stream",
          "name": "stderr",
          "text": [
            "/usr/local/lib/python3.7/dist-packages/seaborn/_decorators.py:43: FutureWarning: Pass the following variables as keyword args: x, y. From version 0.12, the only valid positional argument will be `data`, and passing other arguments without an explicit keyword will result in an error or misinterpretation.\n",
            "  FutureWarning\n"
          ]
        },
        {
          "output_type": "display_data",
          "data": {
            "image/png": "[encoded data removed]",
            "text/plain": [
              "<Figure size 432x288 with 1 Axes>"
            ]
          },
          "metadata": {
            "needs_background": "light"
          }
        },
        {
          "output_type": "stream",
          "name": "stderr",
          "text": [
            "/usr/local/lib/python3.7/dist-packages/seaborn/_decorators.py:43: FutureWarning: Pass the following variables as keyword args: x, y. From version 0.12, the only valid positional argument will be `data`, and passing other arguments without an explicit keyword will result in an error or misinterpretation.\n",
            "  FutureWarning\n"
          ]
        },
        {
          "output_type": "display_data",
          "data": {
            "image/png": "[encoded data removed]",
            "text/plain": [
              "<Figure size 432x288 with 1 Axes>"
            ]
          },
          "metadata": {
            "needs_background": "light"
          }
        }
      ]
    },
    {
      "cell_type": "markdown",
      "metadata": {
        "id": "KNP0Jc5mBX5J"
      },
      "source": [
        "###Handling the NaN values"
      ]
    },
    {
      "cell_type": "code",
      "metadata": {
        "colab": {
          "base_uri": "https://localhost:8080/"
        },
        "id": "eDjTBFvsAVKS",
        "outputId": "7d498893-bcef-4668-c859-81a98d4432d0"
      },
      "source": [
        "data.isna().sum()"
      ],
      "execution_count": null,
      "outputs": [
        {
          "output_type": "execute_result",
          "data": {
            "text/plain": [
              "age                 9\n",
              "bp                 12\n",
              "sg                 47\n",
              "al                 46\n",
              "su                 49\n",
              "rbc               152\n",
              "pc                 65\n",
              "pcc                 4\n",
              "ba                  4\n",
              "bgr                44\n",
              "bu                 19\n",
              "sc                 17\n",
              "sod                87\n",
              "pot                88\n",
              "hemo               52\n",
              "pcv                71\n",
              "wc                106\n",
              "rc                131\n",
              "htn                 2\n",
              "dm                  2\n",
              "cad                 2\n",
              "appet               1\n",
              "pe                  1\n",
              "ane                 1\n",
              "classification      0\n",
              "dtype: int64"
            ]
          },
          "metadata": {},
          "execution_count": 305
        }
      ]
    },
    {
      "cell_type": "code",
      "metadata": {
        "id": "kVaL9eirtUmN"
      },
      "source": [
        "data['pcv'].fillna(int(data['pcv'].mean()), inplace=True)\n",
        "data['wc'].fillna(int(data['wc'].mean()), inplace=True)\n",
        "data['rc'].fillna(int(data['rc'].mean()), inplace=True)\n",
        "data['age'].fillna(int(data['age'].mean()), inplace=True)\n",
        "data['bp'].fillna(int(data['bp'].mean()), inplace=True)\n",
        "data['sg'].fillna(int(data['sg'].mean()), inplace=True)\n",
        "data['al'].fillna(int(data['al'].mean()), inplace=True)\n",
        "data['sg'].fillna(int(data['sg'].mean()), inplace=True)\n",
        "data['su'].fillna(int(data['su'].mean()), inplace=True)\n",
        "data['bgr'].fillna(int(data['bgr'].mean()), inplace=True)\n",
        "data['bu'].fillna(int(data['bu'].mean()), inplace=True)\n",
        "data['sc'].fillna(int(data['sc'].mean()), inplace=True)\n",
        "data['sod'].fillna(int(data['sod'].mean()), inplace=True)\n",
        "data['pot'].fillna(int(data['pot'].mean()), inplace=True)\n",
        "data['hemo'].fillna(int(data['hemo'].mean()), inplace=True)\n",
        "\n"
      ],
      "execution_count": null,
      "outputs": []
    },
    {
      "cell_type": "code",
      "metadata": {
        "colab": {
          "base_uri": "https://localhost:8080/"
        },
        "id": "cyF3CLhStlUM",
        "outputId": "4d9cefab-f4db-41fb-dcc2-20db08587355"
      },
      "source": [
        "data.isna().sum()"
      ],
      "execution_count": null,
      "outputs": [
        {
          "output_type": "execute_result",
          "data": {
            "text/plain": [
              "age                 0\n",
              "bp                  0\n",
              "sg                  0\n",
              "al                  0\n",
              "su                  0\n",
              "rbc               152\n",
              "pc                 65\n",
              "pcc                 4\n",
              "ba                  4\n",
              "bgr                 0\n",
              "bu                  0\n",
              "sc                  0\n",
              "sod                 0\n",
              "pot                 0\n",
              "hemo                0\n",
              "pcv                 0\n",
              "wc                  0\n",
              "rc                  0\n",
              "htn                 2\n",
              "dm                  2\n",
              "cad                 2\n",
              "appet               1\n",
              "pe                  1\n",
              "ane                 1\n",
              "classification      0\n",
              "dtype: int64"
            ]
          },
          "metadata": {},
          "execution_count": 307
        }
      ]
    },
    {
      "cell_type": "code",
      "metadata": {
        "id": "Afe_DsovxznB"
      },
      "source": [
        "data.drop('rbc',axis=1,inplace=True)"
      ],
      "execution_count": null,
      "outputs": []
    },
    {
      "cell_type": "code",
      "metadata": {
        "colab": {
          "base_uri": "https://localhost:8080/"
        },
        "id": "31VB2tTzxlDP",
        "outputId": "b78d3f1f-97ca-4ff6-859c-ff25852554bc"
      },
      "source": [
        "data.shape"
      ],
      "execution_count": null,
      "outputs": [
        {
          "output_type": "execute_result",
          "data": {
            "text/plain": [
              "(400, 24)"
            ]
          },
          "metadata": {},
          "execution_count": 309
        }
      ]
    },
    {
      "cell_type": "code",
      "metadata": {
        "colab": {
          "base_uri": "https://localhost:8080/"
        },
        "id": "Oxf1JaoSzSMf",
        "outputId": "4baf9d5a-61ea-4af9-ea59-e859d589c52e"
      },
      "source": [
        "data.isna().sum()"
      ],
      "execution_count": null,
      "outputs": [
        {
          "output_type": "execute_result",
          "data": {
            "text/plain": [
              "age                0\n",
              "bp                 0\n",
              "sg                 0\n",
              "al                 0\n",
              "su                 0\n",
              "pc                65\n",
              "pcc                4\n",
              "ba                 4\n",
              "bgr                0\n",
              "bu                 0\n",
              "sc                 0\n",
              "sod                0\n",
              "pot                0\n",
              "hemo               0\n",
              "pcv                0\n",
              "wc                 0\n",
              "rc                 0\n",
              "htn                2\n",
              "dm                 2\n",
              "cad                2\n",
              "appet              1\n",
              "pe                 1\n",
              "ane                1\n",
              "classification     0\n",
              "dtype: int64"
            ]
          },
          "metadata": {},
          "execution_count": 310
        }
      ]
    },
    {
      "cell_type": "code",
      "metadata": {
        "id": "KbNUZ-RQ3HBB"
      },
      "source": [
        "data['ba'].fillna(data['ba'].value_counts().index[0],inplace=True)\n",
        "data['pcc'].fillna(data['pcc'].value_counts().index[0],inplace=True)\n",
        "data['ane'].fillna(data['ane'].value_counts().index[0],inplace=True)\n",
        "data['pe'].fillna(data['pe'].value_counts().index[0],inplace=True)\n",
        "data['appet'].fillna(data['appet'].value_counts().index[0],inplace=True)\n",
        "data['cad'].fillna(data['cad'].value_counts().index[0],inplace=True)\n",
        "data['dm'].fillna(data['dm'].value_counts().index[0],inplace=True)\n",
        "data['htn'].fillna(data['htn'].value_counts().index[0],inplace=True)\n",
        "data['pc'].fillna(data['pc'].value_counts().index[0],inplace=True)"
      ],
      "execution_count": null,
      "outputs": []
    },
    {
      "cell_type": "code",
      "metadata": {
        "colab": {
          "base_uri": "https://localhost:8080/"
        },
        "id": "iRCmJpHu3Hzt",
        "outputId": "c4c0ff69-2cb5-4eca-f8c9-7ce24a38bc89"
      },
      "source": [
        "data.info()"
      ],
      "execution_count": null,
      "outputs": [
        {
          "output_type": "stream",
          "name": "stdout",
          "text": [
            "<class 'pandas.core.frame.DataFrame'>\n",
            "RangeIndex: 400 entries, 0 to 399\n",
            "Data columns (total 24 columns):\n",
            " #   Column          Non-Null Count  Dtype  \n",
            "---  ------          --------------  -----  \n",
            " 0   age             400 non-null    float64\n",
            " 1   bp              400 non-null    float64\n",
            " 2   sg              400 non-null    float64\n",
            " 3   al              400 non-null    float64\n",
            " 4   su              400 non-null    float64\n",
            " 5   pc              400 non-null    float64\n",
            " 6   pcc             400 non-null    float64\n",
            " 7   ba              400 non-null    float64\n",
            " 8   bgr             400 non-null    float64\n",
            " 9   bu              400 non-null    float64\n",
            " 10  sc              400 non-null    float64\n",
            " 11  sod             400 non-null    float64\n",
            " 12  pot             400 non-null    float64\n",
            " 13  hemo            400 non-null    float64\n",
            " 14  pcv             400 non-null    float64\n",
            " 15  wc              400 non-null    float64\n",
            " 16  rc              400 non-null    float64\n",
            " 17  htn             400 non-null    float64\n",
            " 18  dm              400 non-null    float64\n",
            " 19  cad             400 non-null    float64\n",
            " 20  appet           400 non-null    float64\n",
            " 21  pe              400 non-null    float64\n",
            " 22  ane             400 non-null    float64\n",
            " 23  classification  400 non-null    int64  \n",
            "dtypes: float64(23), int64(1)\n",
            "memory usage: 75.1 KB\n"
          ]
        }
      ]
    },
    {
      "cell_type": "markdown",
      "metadata": {
        "id": "Whxht7K8IaMf"
      },
      "source": [
        "###DATA VISUALIZATION¶\n"
      ]
    },
    {
      "cell_type": "code",
      "metadata": {
        "colab": {
          "base_uri": "https://localhost:8080/",
          "height": 352
        },
        "id": "WpYGtsSsILR_",
        "outputId": "79519971-a741-4b1b-bccf-76bb22aed0bf"
      },
      "source": [
        "sns.countplot(data.classification)\n",
        "plt.xlabel('Chronic Kidney Disease')\n",
        "plt.title(\"patients Classification\",fontsize=15)\n",
        "plt.show()"
      ],
      "execution_count": null,
      "outputs": [
        {
          "output_type": "stream",
          "name": "stderr",
          "text": [
            "/usr/local/lib/python3.7/dist-packages/seaborn/_decorators.py:43: FutureWarning: Pass the following variable as a keyword arg: x. From version 0.12, the only valid positional argument will be `data`, and passing other arguments without an explicit keyword will result in an error or misinterpretation.\n",
            "  FutureWarning\n"
          ]
        },
        {
          "output_type": "display_data",
          "data": {
            "image/png": "[encoded data removed]",
            "text/plain": [
              "<Figure size 432x288 with 1 Axes>"
            ]
          },
          "metadata": {
            "needs_background": "light"
          }
        }
      ]
    },
    {
      "cell_type": "code",
      "metadata": {
        "colab": {
          "base_uri": "https://localhost:8080/",
          "height": 550
        },
        "id": "WbYyErzsIoa_",
        "outputId": "0947e1a5-e3a6-4c7a-c857-4a79d90a71b3"
      },
      "source": [
        "sns.factorplot(data=data, x='bp', kind= 'count',size=6,aspect=2)\n",
        "plt.xlabel('Chronic Kidney Disease')\n",
        "plt.title(\"blood pressure graph\",fontsize=15)\n",
        "plt.show()"
      ],
      "execution_count": null,
      "outputs": [
        {
          "output_type": "stream",
          "name": "stderr",
          "text": [
            "/usr/local/lib/python3.7/dist-packages/seaborn/categorical.py:3717: UserWarning: The `factorplot` function has been renamed to `catplot`. The original name will be removed in a future release. Please update your code. Note that the default `kind` in `factorplot` (`'point'`) has changed `'strip'` in `catplot`.\n",
            "  warnings.warn(msg)\n",
            "/usr/local/lib/python3.7/dist-packages/seaborn/categorical.py:3723: UserWarning: The `size` parameter has been renamed to `height`; please update your code.\n",
            "  warnings.warn(msg, UserWarning)\n"
          ]
        },
        {
          "output_type": "display_data",
          "data": {
            "image/png": "[encoded data removed]",
            "text/plain": [
              "<Figure size 864x432 with 1 Axes>"
            ]
          },
          "metadata": {
            "needs_background": "light"
          }
        }
      ]
    },
    {
      "cell_type": "markdown",
      "metadata": {
        "id": "BMT0NLtIHpqu"
      },
      "source": [
        "##Training models"
      ]
    },
    {
      "cell_type": "code",
      "metadata": {
        "id": "Wjunz5fc5836"
      },
      "source": [
        "data = data.sample(frac = 1)"
      ],
      "execution_count": null,
      "outputs": []
    },
    {
      "cell_type": "code",
      "metadata": {
        "id": "dk46wJ2s4A4E"
      },
      "source": [
        "x = data.iloc[:,0:23]\n",
        "y = data.iloc[:,23]"
      ],
      "execution_count": null,
      "outputs": []
    },
    {
      "cell_type": "code",
      "metadata": {
        "colab": {
          "base_uri": "https://localhost:8080/",
          "height": 414
        },
        "id": "zCTpnH5y4HCS",
        "outputId": "6ce52bb6-a4b8-4bed-9c41-285cd52b4cca"
      },
      "source": [
        "x"
      ],
      "execution_count": null,
      "outputs": [
        {
          "output_type": "execute_result",
          "data": {
            "text/html": [
              "<div>\n",
              "<style scoped>\n",
              "    .dataframe tbody tr th:only-of-type {\n",
              "        vertical-align: middle;\n",
              "    }\n",
              "\n",
              "    .dataframe tbody tr th {\n",
              "        vertical-align: top;\n",
              "    }\n",
              "\n",
              "    .dataframe thead th {\n",
              "        text-align: right;\n",
              "    }\n",
              "</style>\n",
              "<table border=\"1\" class=\"dataframe\">\n",
              "  <thead>\n",
              "    <tr style=\"text-align: right;\">\n",
              "      <th></th>\n",
              "      <th>age</th>\n",
              "      <th>bp</th>\n",
              "      <th>sg</th>\n",
              "      <th>al</th>\n",
              "      <th>su</th>\n",
              "      <th>pc</th>\n",
              "      <th>pcc</th>\n",
              "      <th>ba</th>\n",
              "      <th>bgr</th>\n",
              "      <th>bu</th>\n",
              "      <th>sc</th>\n",
              "      <th>sod</th>\n",
              "      <th>pot</th>\n",
              "      <th>hemo</th>\n",
              "      <th>pcv</th>\n",
              "      <th>wc</th>\n",
              "      <th>rc</th>\n",
              "      <th>htn</th>\n",
              "      <th>dm</th>\n",
              "      <th>cad</th>\n",
              "      <th>appet</th>\n",
              "      <th>pe</th>\n",
              "      <th>ane</th>\n",
              "    </tr>\n",
              "  </thead>\n",
              "  <tbody>\n",
              "    <tr>\n",
              "      <th>256</th>\n",
              "      <td>60.0</td>\n",
              "      <td>80.0</td>\n",
              "      <td>1.025</td>\n",
              "      <td>0.0</td>\n",
              "      <td>0.0</td>\n",
              "      <td>0.0</td>\n",
              "      <td>0.0</td>\n",
              "      <td>0.0</td>\n",
              "      <td>131.0</td>\n",
              "      <td>10.0</td>\n",
              "      <td>0.5</td>\n",
              "      <td>146.0</td>\n",
              "      <td>5.0</td>\n",
              "      <td>14.5</td>\n",
              "      <td>41.0</td>\n",
              "      <td>10700.0</td>\n",
              "      <td>5.0</td>\n",
              "      <td>0.0</td>\n",
              "      <td>0.0</td>\n",
              "      <td>0.0</td>\n",
              "      <td>1.0</td>\n",
              "      <td>0.0</td>\n",
              "      <td>0.0</td>\n",
              "    </tr>\n",
              "    <tr>\n",
              "      <th>234</th>\n",
              "      <td>37.0</td>\n",
              "      <td>100.0</td>\n",
              "      <td>1.010</td>\n",
              "      <td>0.0</td>\n",
              "      <td>0.0</td>\n",
              "      <td>0.0</td>\n",
              "      <td>0.0</td>\n",
              "      <td>0.0</td>\n",
              "      <td>148.0</td>\n",
              "      <td>19.0</td>\n",
              "      <td>1.3</td>\n",
              "      <td>137.0</td>\n",
              "      <td>4.0</td>\n",
              "      <td>15.0</td>\n",
              "      <td>44.0</td>\n",
              "      <td>4100.0</td>\n",
              "      <td>5.0</td>\n",
              "      <td>1.0</td>\n",
              "      <td>0.0</td>\n",
              "      <td>0.0</td>\n",
              "      <td>1.0</td>\n",
              "      <td>0.0</td>\n",
              "      <td>0.0</td>\n",
              "    </tr>\n",
              "    <tr>\n",
              "      <th>388</th>\n",
              "      <td>51.0</td>\n",
              "      <td>80.0</td>\n",
              "      <td>1.020</td>\n",
              "      <td>0.0</td>\n",
              "      <td>0.0</td>\n",
              "      <td>0.0</td>\n",
              "      <td>0.0</td>\n",
              "      <td>0.0</td>\n",
              "      <td>94.0</td>\n",
              "      <td>15.0</td>\n",
              "      <td>1.2</td>\n",
              "      <td>144.0</td>\n",
              "      <td>3.7</td>\n",
              "      <td>15.5</td>\n",
              "      <td>46.0</td>\n",
              "      <td>9500.0</td>\n",
              "      <td>6.0</td>\n",
              "      <td>0.0</td>\n",
              "      <td>0.0</td>\n",
              "      <td>0.0</td>\n",
              "      <td>1.0</td>\n",
              "      <td>0.0</td>\n",
              "      <td>0.0</td>\n",
              "    </tr>\n",
              "    <tr>\n",
              "      <th>120</th>\n",
              "      <td>72.0</td>\n",
              "      <td>90.0</td>\n",
              "      <td>1.025</td>\n",
              "      <td>1.0</td>\n",
              "      <td>3.0</td>\n",
              "      <td>0.0</td>\n",
              "      <td>0.0</td>\n",
              "      <td>0.0</td>\n",
              "      <td>323.0</td>\n",
              "      <td>40.0</td>\n",
              "      <td>2.2</td>\n",
              "      <td>137.0</td>\n",
              "      <td>5.3</td>\n",
              "      <td>12.6</td>\n",
              "      <td>38.0</td>\n",
              "      <td>8406.0</td>\n",
              "      <td>4.0</td>\n",
              "      <td>0.0</td>\n",
              "      <td>1.0</td>\n",
              "      <td>1.0</td>\n",
              "      <td>0.0</td>\n",
              "      <td>0.0</td>\n",
              "      <td>0.0</td>\n",
              "    </tr>\n",
              "    <tr>\n",
              "      <th>161</th>\n",
              "      <td>62.0</td>\n",
              "      <td>76.0</td>\n",
              "      <td>1.015</td>\n",
              "      <td>3.0</td>\n",
              "      <td>0.0</td>\n",
              "      <td>0.0</td>\n",
              "      <td>0.0</td>\n",
              "      <td>0.0</td>\n",
              "      <td>148.0</td>\n",
              "      <td>57.0</td>\n",
              "      <td>3.0</td>\n",
              "      <td>137.0</td>\n",
              "      <td>4.0</td>\n",
              "      <td>14.3</td>\n",
              "      <td>42.0</td>\n",
              "      <td>10200.0</td>\n",
              "      <td>4.0</td>\n",
              "      <td>1.0</td>\n",
              "      <td>1.0</td>\n",
              "      <td>0.0</td>\n",
              "      <td>1.0</td>\n",
              "      <td>0.0</td>\n",
              "      <td>0.0</td>\n",
              "    </tr>\n",
              "    <tr>\n",
              "      <th>...</th>\n",
              "      <td>...</td>\n",
              "      <td>...</td>\n",
              "      <td>...</td>\n",
              "      <td>...</td>\n",
              "      <td>...</td>\n",
              "      <td>...</td>\n",
              "      <td>...</td>\n",
              "      <td>...</td>\n",
              "      <td>...</td>\n",
              "      <td>...</td>\n",
              "      <td>...</td>\n",
              "      <td>...</td>\n",
              "      <td>...</td>\n",
              "      <td>...</td>\n",
              "      <td>...</td>\n",
              "      <td>...</td>\n",
              "      <td>...</td>\n",
              "      <td>...</td>\n",
              "      <td>...</td>\n",
              "      <td>...</td>\n",
              "      <td>...</td>\n",
              "      <td>...</td>\n",
              "      <td>...</td>\n",
              "    </tr>\n",
              "    <tr>\n",
              "      <th>123</th>\n",
              "      <td>43.0</td>\n",
              "      <td>80.0</td>\n",
              "      <td>1.015</td>\n",
              "      <td>2.0</td>\n",
              "      <td>3.0</td>\n",
              "      <td>1.0</td>\n",
              "      <td>1.0</td>\n",
              "      <td>1.0</td>\n",
              "      <td>148.0</td>\n",
              "      <td>30.0</td>\n",
              "      <td>1.1</td>\n",
              "      <td>137.0</td>\n",
              "      <td>4.0</td>\n",
              "      <td>14.0</td>\n",
              "      <td>42.0</td>\n",
              "      <td>14900.0</td>\n",
              "      <td>4.0</td>\n",
              "      <td>0.0</td>\n",
              "      <td>0.0</td>\n",
              "      <td>0.0</td>\n",
              "      <td>1.0</td>\n",
              "      <td>0.0</td>\n",
              "      <td>0.0</td>\n",
              "    </tr>\n",
              "    <tr>\n",
              "      <th>53</th>\n",
              "      <td>62.0</td>\n",
              "      <td>80.0</td>\n",
              "      <td>1.015</td>\n",
              "      <td>0.0</td>\n",
              "      <td>5.0</td>\n",
              "      <td>0.0</td>\n",
              "      <td>0.0</td>\n",
              "      <td>0.0</td>\n",
              "      <td>246.0</td>\n",
              "      <td>24.0</td>\n",
              "      <td>1.0</td>\n",
              "      <td>137.0</td>\n",
              "      <td>4.0</td>\n",
              "      <td>13.6</td>\n",
              "      <td>40.0</td>\n",
              "      <td>8500.0</td>\n",
              "      <td>4.0</td>\n",
              "      <td>1.0</td>\n",
              "      <td>1.0</td>\n",
              "      <td>0.0</td>\n",
              "      <td>1.0</td>\n",
              "      <td>0.0</td>\n",
              "      <td>0.0</td>\n",
              "    </tr>\n",
              "    <tr>\n",
              "      <th>332</th>\n",
              "      <td>34.0</td>\n",
              "      <td>70.0</td>\n",
              "      <td>1.025</td>\n",
              "      <td>0.0</td>\n",
              "      <td>0.0</td>\n",
              "      <td>0.0</td>\n",
              "      <td>0.0</td>\n",
              "      <td>0.0</td>\n",
              "      <td>148.0</td>\n",
              "      <td>33.0</td>\n",
              "      <td>1.0</td>\n",
              "      <td>150.0</td>\n",
              "      <td>5.0</td>\n",
              "      <td>15.3</td>\n",
              "      <td>44.0</td>\n",
              "      <td>10500.0</td>\n",
              "      <td>6.0</td>\n",
              "      <td>0.0</td>\n",
              "      <td>0.0</td>\n",
              "      <td>0.0</td>\n",
              "      <td>1.0</td>\n",
              "      <td>0.0</td>\n",
              "      <td>0.0</td>\n",
              "    </tr>\n",
              "    <tr>\n",
              "      <th>138</th>\n",
              "      <td>73.0</td>\n",
              "      <td>76.0</td>\n",
              "      <td>1.010</td>\n",
              "      <td>1.0</td>\n",
              "      <td>0.0</td>\n",
              "      <td>0.0</td>\n",
              "      <td>0.0</td>\n",
              "      <td>0.0</td>\n",
              "      <td>95.0</td>\n",
              "      <td>51.0</td>\n",
              "      <td>1.6</td>\n",
              "      <td>142.0</td>\n",
              "      <td>3.5</td>\n",
              "      <td>12.0</td>\n",
              "      <td>38.0</td>\n",
              "      <td>8406.0</td>\n",
              "      <td>4.0</td>\n",
              "      <td>0.0</td>\n",
              "      <td>0.0</td>\n",
              "      <td>0.0</td>\n",
              "      <td>1.0</td>\n",
              "      <td>0.0</td>\n",
              "      <td>0.0</td>\n",
              "    </tr>\n",
              "    <tr>\n",
              "      <th>134</th>\n",
              "      <td>47.0</td>\n",
              "      <td>100.0</td>\n",
              "      <td>1.010</td>\n",
              "      <td>1.0</td>\n",
              "      <td>0.0</td>\n",
              "      <td>0.0</td>\n",
              "      <td>0.0</td>\n",
              "      <td>0.0</td>\n",
              "      <td>122.0</td>\n",
              "      <td>57.0</td>\n",
              "      <td>16.9</td>\n",
              "      <td>138.0</td>\n",
              "      <td>5.2</td>\n",
              "      <td>10.8</td>\n",
              "      <td>33.0</td>\n",
              "      <td>10200.0</td>\n",
              "      <td>3.0</td>\n",
              "      <td>0.0</td>\n",
              "      <td>1.0</td>\n",
              "      <td>0.0</td>\n",
              "      <td>1.0</td>\n",
              "      <td>0.0</td>\n",
              "      <td>0.0</td>\n",
              "    </tr>\n",
              "  </tbody>\n",
              "</table>\n",
              "<p>400 rows × 23 columns</p>\n",
              "</div>"
            ],
            "text/plain": [
              "      age     bp     sg   al   su   pc  ...  htn   dm  cad  appet   pe  ane\n",
              "256  60.0   80.0  1.025  0.0  0.0  0.0  ...  0.0  0.0  0.0    1.0  0.0  0.0\n",
              "234  37.0  100.0  1.010  0.0  0.0  0.0  ...  1.0  0.0  0.0    1.0  0.0  0.0\n",
              "388  51.0   80.0  1.020  0.0  0.0  0.0  ...  0.0  0.0  0.0    1.0  0.0  0.0\n",
              "120  72.0   90.0  1.025  1.0  3.0  0.0  ...  0.0  1.0  1.0    0.0  0.0  0.0\n",
              "161  62.0   76.0  1.015  3.0  0.0  0.0  ...  1.0  1.0  0.0    1.0  0.0  0.0\n",
              "..    ...    ...    ...  ...  ...  ...  ...  ...  ...  ...    ...  ...  ...\n",
              "123  43.0   80.0  1.015  2.0  3.0  1.0  ...  0.0  0.0  0.0    1.0  0.0  0.0\n",
              "53   62.0   80.0  1.015  0.0  5.0  0.0  ...  1.0  1.0  0.0    1.0  0.0  0.0\n",
              "332  34.0   70.0  1.025  0.0  0.0  0.0  ...  0.0  0.0  0.0    1.0  0.0  0.0\n",
              "138  73.0   76.0  1.010  1.0  0.0  0.0  ...  0.0  0.0  0.0    1.0  0.0  0.0\n",
              "134  47.0  100.0  1.010  1.0  0.0  0.0  ...  0.0  1.0  0.0    1.0  0.0  0.0\n",
              "\n",
              "[400 rows x 23 columns]"
            ]
          },
          "metadata": {},
          "execution_count": 315
        }
      ]
    },
    {
      "cell_type": "code",
      "metadata": {
        "colab": {
          "base_uri": "https://localhost:8080/"
        },
        "id": "f5-AfTbf4IPj",
        "outputId": "0738b2cd-4272-469b-f3b8-8235cbe57027"
      },
      "source": [
        "y"
      ],
      "execution_count": null,
      "outputs": [
        {
          "output_type": "execute_result",
          "data": {
            "text/plain": [
              "256    0\n",
              "234    1\n",
              "388    0\n",
              "120    1\n",
              "161    1\n",
              "      ..\n",
              "123    1\n",
              "53     1\n",
              "332    0\n",
              "138    1\n",
              "134    1\n",
              "Name: classification, Length: 400, dtype: int64"
            ]
          },
          "metadata": {},
          "execution_count": 316
        }
      ]
    },
    {
      "cell_type": "code",
      "metadata": {
        "colab": {
          "base_uri": "https://localhost:8080/"
        },
        "id": "5E7dZkyV4UjN",
        "outputId": "0da00db3-19b8-4366-fcc4-73cd67d966d0"
      },
      "source": [
        "y.isna().sum()"
      ],
      "execution_count": null,
      "outputs": [
        {
          "output_type": "execute_result",
          "data": {
            "text/plain": [
              "0"
            ]
          },
          "metadata": {},
          "execution_count": 317
        }
      ]
    },
    {
      "cell_type": "code",
      "metadata": {
        "colab": {
          "base_uri": "https://localhost:8080/"
        },
        "id": "i7bT4jYh4YKX",
        "outputId": "2dbf38d5-5c06-4b3b-df11-dea2153daa7c"
      },
      "source": [
        "x.isna().sum()"
      ],
      "execution_count": null,
      "outputs": [
        {
          "output_type": "execute_result",
          "data": {
            "text/plain": [
              "age      0\n",
              "bp       0\n",
              "sg       0\n",
              "al       0\n",
              "su       0\n",
              "pc       0\n",
              "pcc      0\n",
              "ba       0\n",
              "bgr      0\n",
              "bu       0\n",
              "sc       0\n",
              "sod      0\n",
              "pot      0\n",
              "hemo     0\n",
              "pcv      0\n",
              "wc       0\n",
              "rc       0\n",
              "htn      0\n",
              "dm       0\n",
              "cad      0\n",
              "appet    0\n",
              "pe       0\n",
              "ane      0\n",
              "dtype: int64"
            ]
          },
          "metadata": {},
          "execution_count": 318
        }
      ]
    },
    {
      "cell_type": "code",
      "metadata": {
        "colab": {
          "base_uri": "https://localhost:8080/"
        },
        "id": "Wst2vIwB3Nkd",
        "outputId": "7e5c71fb-6a55-4bdb-e9b4-8ff680ebdd08"
      },
      "source": [
        "from imblearn.under_sampling import RandomUnderSampler\n",
        "\n",
        "rus = RandomUnderSampler(sampling_strategy=1) # Numerical value\n",
        "# rus = RandomUnderSampler(sampling_strategy=\"not minority\") # String\n",
        "new_x,new_y = rus.fit_resample(x, y)"
      ],
      "execution_count": null,
      "outputs": [
        {
          "output_type": "stream",
          "name": "stderr",
          "text": [
            "/usr/local/lib/python3.7/dist-packages/sklearn/utils/deprecation.py:87: FutureWarning: Function safe_indexing is deprecated; safe_indexing is deprecated in version 0.22 and will be removed in version 0.24.\n",
            "  warnings.warn(msg, category=FutureWarning)\n"
          ]
        }
      ]
    },
    {
      "cell_type": "code",
      "metadata": {
        "id": "RyzjQIA1FgVD"
      },
      "source": [
        "x_normalizer=preprocessing.StandardScaler()\n",
        "x_norm=x_normalizer.fit_transform(new_x)\n"
      ],
      "execution_count": null,
      "outputs": []
    },
    {
      "cell_type": "code",
      "metadata": {
        "id": "uZAv_BhdoliI"
      },
      "source": [
        "x_train,x_test,y_train,y_test=model_selection.train_test_split(x_norm,new_y,test_size=0.1,random_state=42)"
      ],
      "execution_count": null,
      "outputs": []
    },
    {
      "cell_type": "code",
      "metadata": {
        "id": "ndqE5OUNqq43"
      },
      "source": [
        "svm_model=svm.SVC(kernel='linear')\n",
        "svm_model.fit(x_train,y_train)\n",
        "pred=svm_model.predict(x_test)\n"
      ],
      "execution_count": null,
      "outputs": []
    },
    {
      "cell_type": "code",
      "metadata": {
        "colab": {
          "base_uri": "https://localhost:8080/"
        },
        "id": "09CZSEj1rDXS",
        "outputId": "648dd46e-a103-4e36-ff29-046140c2c8b2"
      },
      "source": [
        "print(f'the acc is : {metrics.accuracy_score(y_test,pred)}')"
      ],
      "execution_count": null,
      "outputs": [
        {
          "output_type": "stream",
          "name": "stdout",
          "text": [
            "the acc is : 0.9666666666666667\n"
          ]
        }
      ]
    },
    {
      "cell_type": "code",
      "metadata": {
        "colab": {
          "base_uri": "https://localhost:8080/"
        },
        "id": "vA9-DLUSrc15",
        "outputId": "7fca7f74-72db-4084-9ff8-e72afb143c9a"
      },
      "source": [
        "svm_model_2=svm.SVC(kernel='rbf')\n",
        "svm_model_2.fit(x_train,y_train)\n",
        "pred=svm_model.predict(x_test)\n",
        "print(f'the acc is : {metrics.accuracy_score(y_test,pred)}')"
      ],
      "execution_count": null,
      "outputs": [
        {
          "output_type": "stream",
          "name": "stdout",
          "text": [
            "the acc is : 0.9666666666666667\n"
          ]
        }
      ]
    },
    {
      "cell_type": "code",
      "metadata": {
        "colab": {
          "base_uri": "https://localhost:8080/"
        },
        "id": "PG9yEd-0KdX4",
        "outputId": "499c2a28-1856-4308-a975-9a84b5cb9eb0"
      },
      "source": [
        "knn_model =neighbors.KNeighborsClassifier(n_neighbors=3)\n",
        "knn_model.fit(x_train, y_train)\n",
        "y_pred=knn_model.predict(x_test)\n",
        "print('the accuracy of this model is :',metrics.accuracy_score(y_test,pred))"
      ],
      "execution_count": null,
      "outputs": [
        {
          "output_type": "stream",
          "name": "stdout",
          "text": [
            "the accuracy of this model is : 0.9666666666666667\n"
          ]
        }
      ]
    },
    {
      "cell_type": "code",
      "metadata": {
        "id": "VRF5JfIwOoUd"
      },
      "source": [
        "svc = svm.SVC()\n"
      ],
      "execution_count": null,
      "outputs": []
    },
    {
      "cell_type": "code",
      "metadata": {
        "id": "ArucI8hGKDx4"
      },
      "source": [
        "params = {'kernel': ['linear', 'rbf'], 'C': [0.1, 1, 10], 'gamma': ['scale', 'auto', 0.1, 1]}\n"
      ],
      "execution_count": null,
      "outputs": []
    },
    {
      "cell_type": "code",
      "metadata": {
        "id": "Plsfyc74OPWx"
      },
      "source": [
        "\n",
        "scoring = {\n",
        "    'accuracy': metrics.make_scorer(metrics.accuracy_score),\n",
        "    'precision': metrics.make_scorer(metrics.precision_score), \n",
        "    'recall': metrics.make_scorer(metrics.recall_score)\n",
        "    }"
      ],
      "execution_count": null,
      "outputs": []
    },
    {
      "cell_type": "code",
      "metadata": {
        "id": "s4Y6j6_QOS1I"
      },
      "source": [
        "kfold = model_selection.StratifiedShuffleSplit(5, random_state=42)\n"
      ],
      "execution_count": null,
      "outputs": []
    },
    {
      "cell_type": "code",
      "metadata": {
        "id": "DoIBLYlVOW26"
      },
      "source": [
        "gs = model_selection.GridSearchCV(svc, params, cv=kfold, scoring=scoring, refit=\"recall\", verbose=2)\n"
      ],
      "execution_count": null,
      "outputs": []
    },
    {
      "cell_type": "code",
      "metadata": {
        "colab": {
          "base_uri": "https://localhost:8080/"
        },
        "id": "nJs0m4dmOY_D",
        "outputId": "37d6f6db-487e-4588-94da-ec074e5dc933"
      },
      "source": [
        "gs.fit(x, y)\n"
      ],
      "execution_count": null,
      "outputs": [
        {
          "output_type": "stream",
          "name": "stdout",
          "text": [
            "Fitting 5 folds for each of 24 candidates, totalling 120 fits\n",
            "[CV] C=0.1, gamma=scale, kernel=linear ...............................\n"
          ]
        },
        {
          "output_type": "stream",
          "name": "stderr",
          "text": [
            "[Parallel(n_jobs=1)]: Using backend SequentialBackend with 1 concurrent workers.\n"
          ]
        },
        {
          "output_type": "stream",
          "name": "stdout",
          "text": [
            "[CV] ................ C=0.1, gamma=scale, kernel=linear, total=  13.5s\n",
            "[CV] C=0.1, gamma=scale, kernel=linear ...............................\n"
          ]
        },
        {
          "output_type": "stream",
          "name": "stderr",
          "text": [
            "[Parallel(n_jobs=1)]: Done   1 out of   1 | elapsed:   13.5s remaining:    0.0s\n"
          ]
        },
        {
          "output_type": "stream",
          "name": "stdout",
          "text": [
            "[CV] ................ C=0.1, gamma=scale, kernel=linear, total=   4.2s\n",
            "[CV] C=0.1, gamma=scale, kernel=linear ...............................\n",
            "[CV] ................ C=0.1, gamma=scale, kernel=linear, total=   4.8s\n",
            "[CV] C=0.1, gamma=scale, kernel=linear ...............................\n",
            "[CV] ................ C=0.1, gamma=scale, kernel=linear, total=  13.0s\n",
            "[CV] C=0.1, gamma=scale, kernel=linear ...............................\n",
            "[CV] ................ C=0.1, gamma=scale, kernel=linear, total=  19.7s\n",
            "[CV] C=0.1, gamma=scale, kernel=rbf ..................................\n",
            "[CV] ................... C=0.1, gamma=scale, kernel=rbf, total=   0.0s\n",
            "[CV] C=0.1, gamma=scale, kernel=rbf ..................................\n",
            "[CV] ................... C=0.1, gamma=scale, kernel=rbf, total=   0.0s\n",
            "[CV] C=0.1, gamma=scale, kernel=rbf ..................................\n",
            "[CV] ................... C=0.1, gamma=scale, kernel=rbf, total=   0.0s\n",
            "[CV] C=0.1, gamma=scale, kernel=rbf ..................................\n",
            "[CV] ................... C=0.1, gamma=scale, kernel=rbf, total=   0.0s\n",
            "[CV] C=0.1, gamma=scale, kernel=rbf ..................................\n",
            "[CV] ................... C=0.1, gamma=scale, kernel=rbf, total=   0.0s\n",
            "[CV] C=0.1, gamma=auto, kernel=linear ................................\n",
            "[CV] ................. C=0.1, gamma=auto, kernel=linear, total=  13.4s\n",
            "[CV] C=0.1, gamma=auto, kernel=linear ................................\n",
            "[CV] ................. C=0.1, gamma=auto, kernel=linear, total=   4.1s\n",
            "[CV] C=0.1, gamma=auto, kernel=linear ................................\n",
            "[CV] ................. C=0.1, gamma=auto, kernel=linear, total=   4.8s\n",
            "[CV] C=0.1, gamma=auto, kernel=linear ................................\n",
            "[CV] ................. C=0.1, gamma=auto, kernel=linear, total=  12.9s\n",
            "[CV] C=0.1, gamma=auto, kernel=linear ................................\n",
            "[CV] ................. C=0.1, gamma=auto, kernel=linear, total=  19.6s\n",
            "[CV] C=0.1, gamma=auto, kernel=rbf ...................................\n",
            "[CV] .................... C=0.1, gamma=auto, kernel=rbf, total=   0.0s\n",
            "[CV] C=0.1, gamma=auto, kernel=rbf ...................................\n",
            "[CV] .................... C=0.1, gamma=auto, kernel=rbf, total=   0.0s\n",
            "[CV] C=0.1, gamma=auto, kernel=rbf ...................................\n",
            "[CV] .................... C=0.1, gamma=auto, kernel=rbf, total=   0.0s\n",
            "[CV] C=0.1, gamma=auto, kernel=rbf ...................................\n",
            "[CV] .................... C=0.1, gamma=auto, kernel=rbf, total=   0.0s\n",
            "[CV] C=0.1, gamma=auto, kernel=rbf ...................................\n",
            "[CV] .................... C=0.1, gamma=auto, kernel=rbf, total=   0.0s\n",
            "[CV] C=0.1, gamma=0.1, kernel=linear .................................\n",
            "[CV] .................. C=0.1, gamma=0.1, kernel=linear, total=  13.5s\n",
            "[CV] C=0.1, gamma=0.1, kernel=linear .................................\n",
            "[CV] .................. C=0.1, gamma=0.1, kernel=linear, total=   4.1s\n",
            "[CV] C=0.1, gamma=0.1, kernel=linear .................................\n",
            "[CV] .................. C=0.1, gamma=0.1, kernel=linear, total=   4.8s\n",
            "[CV] C=0.1, gamma=0.1, kernel=linear .................................\n",
            "[CV] .................. C=0.1, gamma=0.1, kernel=linear, total=  12.8s\n",
            "[CV] C=0.1, gamma=0.1, kernel=linear .................................\n",
            "[CV] .................. C=0.1, gamma=0.1, kernel=linear, total=  19.7s\n",
            "[CV] C=0.1, gamma=0.1, kernel=rbf ....................................\n",
            "[CV] ..................... C=0.1, gamma=0.1, kernel=rbf, total=   0.0s\n",
            "[CV] C=0.1, gamma=0.1, kernel=rbf ....................................\n",
            "[CV] ..................... C=0.1, gamma=0.1, kernel=rbf, total=   0.0s\n",
            "[CV] C=0.1, gamma=0.1, kernel=rbf ....................................\n",
            "[CV] ..................... C=0.1, gamma=0.1, kernel=rbf, total=   0.0s\n",
            "[CV] C=0.1, gamma=0.1, kernel=rbf ....................................\n",
            "[CV] ..................... C=0.1, gamma=0.1, kernel=rbf, total=   0.0s\n",
            "[CV] C=0.1, gamma=0.1, kernel=rbf ....................................\n",
            "[CV] ..................... C=0.1, gamma=0.1, kernel=rbf, total=   0.0s\n",
            "[CV] C=0.1, gamma=1, kernel=linear ...................................\n",
            "[CV] .................... C=0.1, gamma=1, kernel=linear, total=  13.4s\n",
            "[CV] C=0.1, gamma=1, kernel=linear ...................................\n",
            "[CV] .................... C=0.1, gamma=1, kernel=linear, total=   4.1s\n",
            "[CV] C=0.1, gamma=1, kernel=linear ...................................\n",
            "[CV] .................... C=0.1, gamma=1, kernel=linear, total=   4.8s\n",
            "[CV] C=0.1, gamma=1, kernel=linear ...................................\n",
            "[CV] .................... C=0.1, gamma=1, kernel=linear, total=  12.9s\n",
            "[CV] C=0.1, gamma=1, kernel=linear ...................................\n",
            "[CV] .................... C=0.1, gamma=1, kernel=linear, total=  19.7s\n",
            "[CV] C=0.1, gamma=1, kernel=rbf ......................................\n",
            "[CV] ....................... C=0.1, gamma=1, kernel=rbf, total=   0.0s\n",
            "[CV] C=0.1, gamma=1, kernel=rbf ......................................\n",
            "[CV] ....................... C=0.1, gamma=1, kernel=rbf, total=   0.0s\n",
            "[CV] C=0.1, gamma=1, kernel=rbf ......................................\n",
            "[CV] ....................... C=0.1, gamma=1, kernel=rbf, total=   0.0s\n",
            "[CV] C=0.1, gamma=1, kernel=rbf ......................................\n",
            "[CV] ....................... C=0.1, gamma=1, kernel=rbf, total=   0.0s\n",
            "[CV] C=0.1, gamma=1, kernel=rbf ......................................\n",
            "[CV] ....................... C=0.1, gamma=1, kernel=rbf, total=   0.0s\n",
            "[CV] C=1, gamma=scale, kernel=linear .................................\n",
            "[CV] .................. C=1, gamma=scale, kernel=linear, total=  12.3s\n",
            "[CV] C=1, gamma=scale, kernel=linear .................................\n",
            "[CV] .................. C=1, gamma=scale, kernel=linear, total=  10.9s\n",
            "[CV] C=1, gamma=scale, kernel=linear .................................\n",
            "[CV] .................. C=1, gamma=scale, kernel=linear, total=  12.1s\n",
            "[CV] C=1, gamma=scale, kernel=linear .................................\n",
            "[CV] .................. C=1, gamma=scale, kernel=linear, total=   9.7s\n",
            "[CV] C=1, gamma=scale, kernel=linear .................................\n",
            "[CV] .................. C=1, gamma=scale, kernel=linear, total=  20.3s\n",
            "[CV] C=1, gamma=scale, kernel=rbf ....................................\n",
            "[CV] ..................... C=1, gamma=scale, kernel=rbf, total=   0.0s\n",
            "[CV] C=1, gamma=scale, kernel=rbf ....................................\n",
            "[CV] ..................... C=1, gamma=scale, kernel=rbf, total=   0.0s\n",
            "[CV] C=1, gamma=scale, kernel=rbf ....................................\n",
            "[CV] ..................... C=1, gamma=scale, kernel=rbf, total=   0.0s\n",
            "[CV] C=1, gamma=scale, kernel=rbf ....................................\n",
            "[CV] ..................... C=1, gamma=scale, kernel=rbf, total=   0.0s\n",
            "[CV] C=1, gamma=scale, kernel=rbf ....................................\n",
            "[CV] ..................... C=1, gamma=scale, kernel=rbf, total=   0.0s\n",
            "[CV] C=1, gamma=auto, kernel=linear ..................................\n",
            "[CV] ................... C=1, gamma=auto, kernel=linear, total=  12.3s\n",
            "[CV] C=1, gamma=auto, kernel=linear ..................................\n",
            "[CV] ................... C=1, gamma=auto, kernel=linear, total=  10.9s\n",
            "[CV] C=1, gamma=auto, kernel=linear ..................................\n",
            "[CV] ................... C=1, gamma=auto, kernel=linear, total=  12.1s\n",
            "[CV] C=1, gamma=auto, kernel=linear ..................................\n",
            "[CV] ................... C=1, gamma=auto, kernel=linear, total=   9.8s\n",
            "[CV] C=1, gamma=auto, kernel=linear ..................................\n",
            "[CV] ................... C=1, gamma=auto, kernel=linear, total=  20.3s\n",
            "[CV] C=1, gamma=auto, kernel=rbf .....................................\n",
            "[CV] ...................... C=1, gamma=auto, kernel=rbf, total=   0.0s\n",
            "[CV] C=1, gamma=auto, kernel=rbf .....................................\n",
            "[CV] ...................... C=1, gamma=auto, kernel=rbf, total=   0.0s\n",
            "[CV] C=1, gamma=auto, kernel=rbf .....................................\n",
            "[CV] ...................... C=1, gamma=auto, kernel=rbf, total=   0.0s\n",
            "[CV] C=1, gamma=auto, kernel=rbf .....................................\n",
            "[CV] ...................... C=1, gamma=auto, kernel=rbf, total=   0.0s\n",
            "[CV] C=1, gamma=auto, kernel=rbf .....................................\n",
            "[CV] ...................... C=1, gamma=auto, kernel=rbf, total=   0.0s\n",
            "[CV] C=1, gamma=0.1, kernel=linear ...................................\n",
            "[CV] .................... C=1, gamma=0.1, kernel=linear, total=  12.3s\n",
            "[CV] C=1, gamma=0.1, kernel=linear ...................................\n",
            "[CV] .................... C=1, gamma=0.1, kernel=linear, total=  10.9s\n",
            "[CV] C=1, gamma=0.1, kernel=linear ...................................\n",
            "[CV] .................... C=1, gamma=0.1, kernel=linear, total=  12.0s\n",
            "[CV] C=1, gamma=0.1, kernel=linear ...................................\n",
            "[CV] .................... C=1, gamma=0.1, kernel=linear, total=   9.8s\n",
            "[CV] C=1, gamma=0.1, kernel=linear ...................................\n",
            "[CV] .................... C=1, gamma=0.1, kernel=linear, total=  20.2s\n",
            "[CV] C=1, gamma=0.1, kernel=rbf ......................................\n",
            "[CV] ....................... C=1, gamma=0.1, kernel=rbf, total=   0.0s\n",
            "[CV] C=1, gamma=0.1, kernel=rbf ......................................\n",
            "[CV] ....................... C=1, gamma=0.1, kernel=rbf, total=   0.0s\n",
            "[CV] C=1, gamma=0.1, kernel=rbf ......................................\n",
            "[CV] ....................... C=1, gamma=0.1, kernel=rbf, total=   0.0s\n",
            "[CV] C=1, gamma=0.1, kernel=rbf ......................................\n",
            "[CV] ....................... C=1, gamma=0.1, kernel=rbf, total=   0.0s\n",
            "[CV] C=1, gamma=0.1, kernel=rbf ......................................\n",
            "[CV] ....................... C=1, gamma=0.1, kernel=rbf, total=   0.0s\n",
            "[CV] C=1, gamma=1, kernel=linear .....................................\n",
            "[CV] ...................... C=1, gamma=1, kernel=linear, total=  12.2s\n",
            "[CV] C=1, gamma=1, kernel=linear .....................................\n",
            "[CV] ...................... C=1, gamma=1, kernel=linear, total=  11.0s\n",
            "[CV] C=1, gamma=1, kernel=linear .....................................\n",
            "[CV] ...................... C=1, gamma=1, kernel=linear, total=  12.1s\n",
            "[CV] C=1, gamma=1, kernel=linear .....................................\n",
            "[CV] ...................... C=1, gamma=1, kernel=linear, total=   9.8s\n",
            "[CV] C=1, gamma=1, kernel=linear .....................................\n",
            "[CV] ...................... C=1, gamma=1, kernel=linear, total=  20.2s\n",
            "[CV] C=1, gamma=1, kernel=rbf ........................................\n",
            "[CV] ......................... C=1, gamma=1, kernel=rbf, total=   0.0s\n",
            "[CV] C=1, gamma=1, kernel=rbf ........................................\n",
            "[CV] ......................... C=1, gamma=1, kernel=rbf, total=   0.0s\n",
            "[CV] C=1, gamma=1, kernel=rbf ........................................\n",
            "[CV] ......................... C=1, gamma=1, kernel=rbf, total=   0.0s\n",
            "[CV] C=1, gamma=1, kernel=rbf ........................................\n",
            "[CV] ......................... C=1, gamma=1, kernel=rbf, total=   0.0s\n",
            "[CV] C=1, gamma=1, kernel=rbf ........................................\n",
            "[CV] ......................... C=1, gamma=1, kernel=rbf, total=   0.0s\n",
            "[CV] C=10, gamma=scale, kernel=linear ................................\n",
            "[CV] ................. C=10, gamma=scale, kernel=linear, total=  22.9s\n",
            "[CV] C=10, gamma=scale, kernel=linear ................................\n",
            "[CV] ................. C=10, gamma=scale, kernel=linear, total=  12.2s\n",
            "[CV] C=10, gamma=scale, kernel=linear ................................\n",
            "[CV] ................. C=10, gamma=scale, kernel=linear, total=  31.3s\n",
            "[CV] C=10, gamma=scale, kernel=linear ................................\n",
            "[CV] ................. C=10, gamma=scale, kernel=linear, total=  24.3s\n",
            "[CV] C=10, gamma=scale, kernel=linear ................................\n",
            "[CV] ................. C=10, gamma=scale, kernel=linear, total=  23.0s\n",
            "[CV] C=10, gamma=scale, kernel=rbf ...................................\n",
            "[CV] .................... C=10, gamma=scale, kernel=rbf, total=   0.0s\n",
            "[CV] C=10, gamma=scale, kernel=rbf ...................................\n",
            "[CV] .................... C=10, gamma=scale, kernel=rbf, total=   0.0s\n",
            "[CV] C=10, gamma=scale, kernel=rbf ...................................\n",
            "[CV] .................... C=10, gamma=scale, kernel=rbf, total=   0.0s\n",
            "[CV] C=10, gamma=scale, kernel=rbf ...................................\n",
            "[CV] .................... C=10, gamma=scale, kernel=rbf, total=   0.0s\n",
            "[CV] C=10, gamma=scale, kernel=rbf ...................................\n",
            "[CV] .................... C=10, gamma=scale, kernel=rbf, total=   0.0s\n",
            "[CV] C=10, gamma=auto, kernel=linear .................................\n",
            "[CV] .................. C=10, gamma=auto, kernel=linear, total=  23.0s\n",
            "[CV] C=10, gamma=auto, kernel=linear .................................\n",
            "[CV] .................. C=10, gamma=auto, kernel=linear, total=  12.2s\n",
            "[CV] C=10, gamma=auto, kernel=linear .................................\n",
            "[CV] .................. C=10, gamma=auto, kernel=linear, total=  31.4s\n",
            "[CV] C=10, gamma=auto, kernel=linear .................................\n",
            "[CV] .................. C=10, gamma=auto, kernel=linear, total=  24.2s\n",
            "[CV] C=10, gamma=auto, kernel=linear .................................\n",
            "[CV] .................. C=10, gamma=auto, kernel=linear, total=  23.0s\n",
            "[CV] C=10, gamma=auto, kernel=rbf ....................................\n",
            "[CV] ..................... C=10, gamma=auto, kernel=rbf, total=   0.0s\n",
            "[CV] C=10, gamma=auto, kernel=rbf ....................................\n",
            "[CV] ..................... C=10, gamma=auto, kernel=rbf, total=   0.0s\n",
            "[CV] C=10, gamma=auto, kernel=rbf ....................................\n",
            "[CV] ..................... C=10, gamma=auto, kernel=rbf, total=   0.0s\n",
            "[CV] C=10, gamma=auto, kernel=rbf ....................................\n",
            "[CV] ..................... C=10, gamma=auto, kernel=rbf, total=   0.0s\n",
            "[CV] C=10, gamma=auto, kernel=rbf ....................................\n",
            "[CV] ..................... C=10, gamma=auto, kernel=rbf, total=   0.0s\n",
            "[CV] C=10, gamma=0.1, kernel=linear ..................................\n",
            "[CV] ................... C=10, gamma=0.1, kernel=linear, total=  23.0s\n",
            "[CV] C=10, gamma=0.1, kernel=linear ..................................\n",
            "[CV] ................... C=10, gamma=0.1, kernel=linear, total=  12.1s\n",
            "[CV] C=10, gamma=0.1, kernel=linear ..................................\n",
            "[CV] ................... C=10, gamma=0.1, kernel=linear, total=  31.3s\n",
            "[CV] C=10, gamma=0.1, kernel=linear ..................................\n",
            "[CV] ................... C=10, gamma=0.1, kernel=linear, total=  24.2s\n",
            "[CV] C=10, gamma=0.1, kernel=linear ..................................\n",
            "[CV] ................... C=10, gamma=0.1, kernel=linear, total=  23.0s\n",
            "[CV] C=10, gamma=0.1, kernel=rbf .....................................\n",
            "[CV] ...................... C=10, gamma=0.1, kernel=rbf, total=   0.0s\n",
            "[CV] C=10, gamma=0.1, kernel=rbf .....................................\n",
            "[CV] ...................... C=10, gamma=0.1, kernel=rbf, total=   0.0s\n",
            "[CV] C=10, gamma=0.1, kernel=rbf .....................................\n",
            "[CV] ...................... C=10, gamma=0.1, kernel=rbf, total=   0.0s\n",
            "[CV] C=10, gamma=0.1, kernel=rbf .....................................\n",
            "[CV] ...................... C=10, gamma=0.1, kernel=rbf, total=   0.0s\n",
            "[CV] C=10, gamma=0.1, kernel=rbf .....................................\n",
            "[CV] ...................... C=10, gamma=0.1, kernel=rbf, total=   0.0s\n",
            "[CV] C=10, gamma=1, kernel=linear ....................................\n",
            "[CV] ..................... C=10, gamma=1, kernel=linear, total=  23.0s\n",
            "[CV] C=10, gamma=1, kernel=linear ....................................\n",
            "[CV] ..................... C=10, gamma=1, kernel=linear, total=  12.1s\n",
            "[CV] C=10, gamma=1, kernel=linear ....................................\n",
            "[CV] ..................... C=10, gamma=1, kernel=linear, total=  31.3s\n",
            "[CV] C=10, gamma=1, kernel=linear ....................................\n",
            "[CV] ..................... C=10, gamma=1, kernel=linear, total=  24.1s\n",
            "[CV] C=10, gamma=1, kernel=linear ....................................\n",
            "[CV] ..................... C=10, gamma=1, kernel=linear, total=  23.2s\n",
            "[CV] C=10, gamma=1, kernel=rbf .......................................\n",
            "[CV] ........................ C=10, gamma=1, kernel=rbf, total=   0.0s\n",
            "[CV] C=10, gamma=1, kernel=rbf .......................................\n",
            "[CV] ........................ C=10, gamma=1, kernel=rbf, total=   0.0s\n",
            "[CV] C=10, gamma=1, kernel=rbf .......................................\n",
            "[CV] ........................ C=10, gamma=1, kernel=rbf, total=   0.0s\n",
            "[CV] C=10, gamma=1, kernel=rbf .......................................\n",
            "[CV] ........................ C=10, gamma=1, kernel=rbf, total=   0.0s\n",
            "[CV] C=10, gamma=1, kernel=rbf .......................................\n",
            "[CV] ........................ C=10, gamma=1, kernel=rbf, total=   0.0s\n"
          ]
        },
        {
          "output_type": "stream",
          "name": "stderr",
          "text": [
            "[Parallel(n_jobs=1)]: Done 120 out of 120 | elapsed: 15.6min finished\n"
          ]
        },
        {
          "output_type": "execute_result",
          "data": {
            "text/plain": [
              "GridSearchCV(cv=StratifiedShuffleSplit(n_splits=5, random_state=42, test_size=None,\n",
              "            train_size=None),\n",
              "             error_score=nan,\n",
              "             estimator=SVC(C=1.0, break_ties=False, cache_size=200,\n",
              "                           class_weight=None, coef0=0.0,\n",
              "                           decision_function_shape='ovr', degree=3,\n",
              "                           gamma='scale', kernel='rbf', max_iter=-1,\n",
              "                           probability=False, random_state=None, shrinking=True,\n",
              "                           tol=0.001, verbose=False),\n",
              "             iid='deprecated', n_jobs=None,\n",
              "             param_grid={'C': [0.1, 1, 10], 'gamma': ['scale', 'auto', 0.1, 1],\n",
              "                         'kernel': ['linear', 'rbf']},\n",
              "             pre_dispatch='2*n_jobs', refit='recall', return_train_score=False,\n",
              "             scoring={'accuracy': make_scorer(accuracy_score),\n",
              "                      'precision': make_scorer(precision_score),\n",
              "                      'recall': make_scorer(recall_score)},\n",
              "             verbose=2)"
            ]
          },
          "metadata": {},
          "execution_count": 332
        }
      ]
    },
    {
      "cell_type": "code",
      "metadata": {
        "colab": {
          "base_uri": "https://localhost:8080/"
        },
        "id": "iJyL8DdFOtzO",
        "outputId": "10208691-13a2-4d78-ba19-e0bcb6d6b6b1"
      },
      "source": [
        "print(\"Best Hyperparameters:\", gs.best_params_)\n",
        "print(\"Best Score (Recall): \", gs.best_score_)"
      ],
      "execution_count": null,
      "outputs": [
        {
          "output_type": "stream",
          "name": "stdout",
          "text": [
            "Best Hyperparameters: {'C': 0.1, 'gamma': 'scale', 'kernel': 'rbf'}\n",
            "Best Score (Recall):  1.0\n"
          ]
        }
      ]
    },
    {
      "cell_type": "code",
      "metadata": {
        "colab": {
          "base_uri": "https://localhost:8080/"
        },
        "id": "UFZ48TZMO49C",
        "outputId": "8f3431c0-fa56-4452-f8b4-c0408b8beae9"
      },
      "source": [
        "best_svc = gs.best_estimator_\n",
        "best_svc"
      ],
      "execution_count": null,
      "outputs": [
        {
          "output_type": "execute_result",
          "data": {
            "text/plain": [
              "SVC(C=0.1, break_ties=False, cache_size=200, class_weight=None, coef0=0.0,\n",
              "    decision_function_shape='ovr', degree=3, gamma='scale', kernel='rbf',\n",
              "    max_iter=-1, probability=False, random_state=None, shrinking=True,\n",
              "    tol=0.001, verbose=False)"
            ]
          },
          "metadata": {},
          "execution_count": 334
        }
      ]
    },
    {
      "cell_type": "code",
      "metadata": {
        "colab": {
          "base_uri": "https://localhost:8080/",
          "height": 1000
        },
        "id": "XQ_l4pLpO_XJ",
        "outputId": "cd1c2c1e-0161-473b-9b96-574ebb5ccb4d"
      },
      "source": [
        "df = pd.DataFrame(gs.cv_results_)\n",
        "df.sort_values(['mean_test_precision'])"
      ],
      "execution_count": null,
      "outputs": [
        {
          "output_type": "execute_result",
          "data": {
            "text/html": [
              "<div>\n",
              "<style scoped>\n",
              "    .dataframe tbody tr th:only-of-type {\n",
              "        vertical-align: middle;\n",
              "    }\n",
              "\n",
              "    .dataframe tbody tr th {\n",
              "        vertical-align: top;\n",
              "    }\n",
              "\n",
              "    .dataframe thead th {\n",
              "        text-align: right;\n",
              "    }\n",
              "</style>\n",
              "<table border=\"1\" class=\"dataframe\">\n",
              "  <thead>\n",
              "    <tr style=\"text-align: right;\">\n",
              "      <th></th>\n",
              "      <th>mean_fit_time</th>\n",
              "      <th>std_fit_time</th>\n",
              "      <th>mean_score_time</th>\n",
              "      <th>std_score_time</th>\n",
              "      <th>param_C</th>\n",
              "      <th>param_gamma</th>\n",
              "      <th>param_kernel</th>\n",
              "      <th>params</th>\n",
              "      <th>split0_test_accuracy</th>\n",
              "      <th>split1_test_accuracy</th>\n",
              "      <th>split2_test_accuracy</th>\n",
              "      <th>split3_test_accuracy</th>\n",
              "      <th>split4_test_accuracy</th>\n",
              "      <th>mean_test_accuracy</th>\n",
              "      <th>std_test_accuracy</th>\n",
              "      <th>rank_test_accuracy</th>\n",
              "      <th>split0_test_precision</th>\n",
              "      <th>split1_test_precision</th>\n",
              "      <th>split2_test_precision</th>\n",
              "      <th>split3_test_precision</th>\n",
              "      <th>split4_test_precision</th>\n",
              "      <th>mean_test_precision</th>\n",
              "      <th>std_test_precision</th>\n",
              "      <th>rank_test_precision</th>\n",
              "      <th>split0_test_recall</th>\n",
              "      <th>split1_test_recall</th>\n",
              "      <th>split2_test_recall</th>\n",
              "      <th>split3_test_recall</th>\n",
              "      <th>split4_test_recall</th>\n",
              "      <th>mean_test_recall</th>\n",
              "      <th>std_test_recall</th>\n",
              "      <th>rank_test_recall</th>\n",
              "    </tr>\n",
              "  </thead>\n",
              "  <tbody>\n",
              "    <tr>\n",
              "      <th>17</th>\n",
              "      <td>0.015132</td>\n",
              "      <td>0.001484</td>\n",
              "      <td>0.004199</td>\n",
              "      <td>0.000067</td>\n",
              "      <td>10</td>\n",
              "      <td>scale</td>\n",
              "      <td>rbf</td>\n",
              "      <td>{'C': 10, 'gamma': 'scale', 'kernel': 'rbf'}</td>\n",
              "      <td>0.625</td>\n",
              "      <td>0.625</td>\n",
              "      <td>0.625</td>\n",
              "      <td>0.625</td>\n",
              "      <td>0.600</td>\n",
              "      <td>0.620</td>\n",
              "      <td>0.010000</td>\n",
              "      <td>24</td>\n",
              "      <td>0.625000</td>\n",
              "      <td>0.625</td>\n",
              "      <td>0.625000</td>\n",
              "      <td>0.625</td>\n",
              "      <td>0.615385</td>\n",
              "      <td>0.623077</td>\n",
              "      <td>0.003846</td>\n",
              "      <td>24</td>\n",
              "      <td>1.0</td>\n",
              "      <td>1.00</td>\n",
              "      <td>1.00</td>\n",
              "      <td>1.00</td>\n",
              "      <td>0.96</td>\n",
              "      <td>0.992</td>\n",
              "      <td>0.016000</td>\n",
              "      <td>12</td>\n",
              "    </tr>\n",
              "    <tr>\n",
              "      <th>11</th>\n",
              "      <td>0.014510</td>\n",
              "      <td>0.000373</td>\n",
              "      <td>0.004497</td>\n",
              "      <td>0.000432</td>\n",
              "      <td>1</td>\n",
              "      <td>auto</td>\n",
              "      <td>rbf</td>\n",
              "      <td>{'C': 1, 'gamma': 'auto', 'kernel': 'rbf'}</td>\n",
              "      <td>0.625</td>\n",
              "      <td>0.625</td>\n",
              "      <td>0.625</td>\n",
              "      <td>0.625</td>\n",
              "      <td>0.625</td>\n",
              "      <td>0.625</td>\n",
              "      <td>0.000000</td>\n",
              "      <td>13</td>\n",
              "      <td>0.625000</td>\n",
              "      <td>0.625</td>\n",
              "      <td>0.625000</td>\n",
              "      <td>0.625</td>\n",
              "      <td>0.625000</td>\n",
              "      <td>0.625000</td>\n",
              "      <td>0.000000</td>\n",
              "      <td>13</td>\n",
              "      <td>1.0</td>\n",
              "      <td>1.00</td>\n",
              "      <td>1.00</td>\n",
              "      <td>1.00</td>\n",
              "      <td>1.00</td>\n",
              "      <td>1.000</td>\n",
              "      <td>0.000000</td>\n",
              "      <td>1</td>\n",
              "    </tr>\n",
              "    <tr>\n",
              "      <th>21</th>\n",
              "      <td>0.013161</td>\n",
              "      <td>0.000361</td>\n",
              "      <td>0.005533</td>\n",
              "      <td>0.001394</td>\n",
              "      <td>10</td>\n",
              "      <td>0.1</td>\n",
              "      <td>rbf</td>\n",
              "      <td>{'C': 10, 'gamma': 0.1, 'kernel': 'rbf'}</td>\n",
              "      <td>0.625</td>\n",
              "      <td>0.625</td>\n",
              "      <td>0.625</td>\n",
              "      <td>0.625</td>\n",
              "      <td>0.625</td>\n",
              "      <td>0.625</td>\n",
              "      <td>0.000000</td>\n",
              "      <td>13</td>\n",
              "      <td>0.625000</td>\n",
              "      <td>0.625</td>\n",
              "      <td>0.625000</td>\n",
              "      <td>0.625</td>\n",
              "      <td>0.625000</td>\n",
              "      <td>0.625000</td>\n",
              "      <td>0.000000</td>\n",
              "      <td>13</td>\n",
              "      <td>1.0</td>\n",
              "      <td>1.00</td>\n",
              "      <td>1.00</td>\n",
              "      <td>1.00</td>\n",
              "      <td>1.00</td>\n",
              "      <td>1.000</td>\n",
              "      <td>0.000000</td>\n",
              "      <td>1</td>\n",
              "    </tr>\n",
              "    <tr>\n",
              "      <th>19</th>\n",
              "      <td>0.014151</td>\n",
              "      <td>0.000542</td>\n",
              "      <td>0.004544</td>\n",
              "      <td>0.000414</td>\n",
              "      <td>10</td>\n",
              "      <td>auto</td>\n",
              "      <td>rbf</td>\n",
              "      <td>{'C': 10, 'gamma': 'auto', 'kernel': 'rbf'}</td>\n",
              "      <td>0.625</td>\n",
              "      <td>0.625</td>\n",
              "      <td>0.625</td>\n",
              "      <td>0.625</td>\n",
              "      <td>0.625</td>\n",
              "      <td>0.625</td>\n",
              "      <td>0.000000</td>\n",
              "      <td>13</td>\n",
              "      <td>0.625000</td>\n",
              "      <td>0.625</td>\n",
              "      <td>0.625000</td>\n",
              "      <td>0.625</td>\n",
              "      <td>0.625000</td>\n",
              "      <td>0.625000</td>\n",
              "      <td>0.000000</td>\n",
              "      <td>13</td>\n",
              "      <td>1.0</td>\n",
              "      <td>1.00</td>\n",
              "      <td>1.00</td>\n",
              "      <td>1.00</td>\n",
              "      <td>1.00</td>\n",
              "      <td>1.000</td>\n",
              "      <td>0.000000</td>\n",
              "      <td>1</td>\n",
              "    </tr>\n",
              "    <tr>\n",
              "      <th>15</th>\n",
              "      <td>0.013640</td>\n",
              "      <td>0.000794</td>\n",
              "      <td>0.004231</td>\n",
              "      <td>0.000065</td>\n",
              "      <td>1</td>\n",
              "      <td>1</td>\n",
              "      <td>rbf</td>\n",
              "      <td>{'C': 1, 'gamma': 1, 'kernel': 'rbf'}</td>\n",
              "      <td>0.625</td>\n",
              "      <td>0.625</td>\n",
              "      <td>0.625</td>\n",
              "      <td>0.625</td>\n",
              "      <td>0.625</td>\n",
              "      <td>0.625</td>\n",
              "      <td>0.000000</td>\n",
              "      <td>13</td>\n",
              "      <td>0.625000</td>\n",
              "      <td>0.625</td>\n",
              "      <td>0.625000</td>\n",
              "      <td>0.625</td>\n",
              "      <td>0.625000</td>\n",
              "      <td>0.625000</td>\n",
              "      <td>0.000000</td>\n",
              "      <td>13</td>\n",
              "      <td>1.0</td>\n",
              "      <td>1.00</td>\n",
              "      <td>1.00</td>\n",
              "      <td>1.00</td>\n",
              "      <td>1.00</td>\n",
              "      <td>1.000</td>\n",
              "      <td>0.000000</td>\n",
              "      <td>1</td>\n",
              "    </tr>\n",
              "    <tr>\n",
              "      <th>13</th>\n",
              "      <td>0.014657</td>\n",
              "      <td>0.000663</td>\n",
              "      <td>0.004548</td>\n",
              "      <td>0.000246</td>\n",
              "      <td>1</td>\n",
              "      <td>0.1</td>\n",
              "      <td>rbf</td>\n",
              "      <td>{'C': 1, 'gamma': 0.1, 'kernel': 'rbf'}</td>\n",
              "      <td>0.625</td>\n",
              "      <td>0.625</td>\n",
              "      <td>0.625</td>\n",
              "      <td>0.625</td>\n",
              "      <td>0.625</td>\n",
              "      <td>0.625</td>\n",
              "      <td>0.000000</td>\n",
              "      <td>13</td>\n",
              "      <td>0.625000</td>\n",
              "      <td>0.625</td>\n",
              "      <td>0.625000</td>\n",
              "      <td>0.625</td>\n",
              "      <td>0.625000</td>\n",
              "      <td>0.625000</td>\n",
              "      <td>0.000000</td>\n",
              "      <td>13</td>\n",
              "      <td>1.0</td>\n",
              "      <td>1.00</td>\n",
              "      <td>1.00</td>\n",
              "      <td>1.00</td>\n",
              "      <td>1.00</td>\n",
              "      <td>1.000</td>\n",
              "      <td>0.000000</td>\n",
              "      <td>1</td>\n",
              "    </tr>\n",
              "    <tr>\n",
              "      <th>9</th>\n",
              "      <td>0.017748</td>\n",
              "      <td>0.005615</td>\n",
              "      <td>0.004871</td>\n",
              "      <td>0.001154</td>\n",
              "      <td>1</td>\n",
              "      <td>scale</td>\n",
              "      <td>rbf</td>\n",
              "      <td>{'C': 1, 'gamma': 'scale', 'kernel': 'rbf'}</td>\n",
              "      <td>0.625</td>\n",
              "      <td>0.625</td>\n",
              "      <td>0.625</td>\n",
              "      <td>0.625</td>\n",
              "      <td>0.625</td>\n",
              "      <td>0.625</td>\n",
              "      <td>0.000000</td>\n",
              "      <td>13</td>\n",
              "      <td>0.625000</td>\n",
              "      <td>0.625</td>\n",
              "      <td>0.625000</td>\n",
              "      <td>0.625</td>\n",
              "      <td>0.625000</td>\n",
              "      <td>0.625000</td>\n",
              "      <td>0.000000</td>\n",
              "      <td>13</td>\n",
              "      <td>1.0</td>\n",
              "      <td>1.00</td>\n",
              "      <td>1.00</td>\n",
              "      <td>1.00</td>\n",
              "      <td>1.00</td>\n",
              "      <td>1.000</td>\n",
              "      <td>0.000000</td>\n",
              "      <td>1</td>\n",
              "    </tr>\n",
              "    <tr>\n",
              "      <th>23</th>\n",
              "      <td>0.012360</td>\n",
              "      <td>0.001686</td>\n",
              "      <td>0.004735</td>\n",
              "      <td>0.000734</td>\n",
              "      <td>10</td>\n",
              "      <td>1</td>\n",
              "      <td>rbf</td>\n",
              "      <td>{'C': 10, 'gamma': 1, 'kernel': 'rbf'}</td>\n",
              "      <td>0.625</td>\n",
              "      <td>0.625</td>\n",
              "      <td>0.625</td>\n",
              "      <td>0.625</td>\n",
              "      <td>0.625</td>\n",
              "      <td>0.625</td>\n",
              "      <td>0.000000</td>\n",
              "      <td>13</td>\n",
              "      <td>0.625000</td>\n",
              "      <td>0.625</td>\n",
              "      <td>0.625000</td>\n",
              "      <td>0.625</td>\n",
              "      <td>0.625000</td>\n",
              "      <td>0.625000</td>\n",
              "      <td>0.000000</td>\n",
              "      <td>13</td>\n",
              "      <td>1.0</td>\n",
              "      <td>1.00</td>\n",
              "      <td>1.00</td>\n",
              "      <td>1.00</td>\n",
              "      <td>1.00</td>\n",
              "      <td>1.000</td>\n",
              "      <td>0.000000</td>\n",
              "      <td>1</td>\n",
              "    </tr>\n",
              "    <tr>\n",
              "      <th>5</th>\n",
              "      <td>0.014021</td>\n",
              "      <td>0.000521</td>\n",
              "      <td>0.004702</td>\n",
              "      <td>0.000281</td>\n",
              "      <td>0.1</td>\n",
              "      <td>0.1</td>\n",
              "      <td>rbf</td>\n",
              "      <td>{'C': 0.1, 'gamma': 0.1, 'kernel': 'rbf'}</td>\n",
              "      <td>0.625</td>\n",
              "      <td>0.625</td>\n",
              "      <td>0.625</td>\n",
              "      <td>0.625</td>\n",
              "      <td>0.625</td>\n",
              "      <td>0.625</td>\n",
              "      <td>0.000000</td>\n",
              "      <td>13</td>\n",
              "      <td>0.625000</td>\n",
              "      <td>0.625</td>\n",
              "      <td>0.625000</td>\n",
              "      <td>0.625</td>\n",
              "      <td>0.625000</td>\n",
              "      <td>0.625000</td>\n",
              "      <td>0.000000</td>\n",
              "      <td>13</td>\n",
              "      <td>1.0</td>\n",
              "      <td>1.00</td>\n",
              "      <td>1.00</td>\n",
              "      <td>1.00</td>\n",
              "      <td>1.00</td>\n",
              "      <td>1.000</td>\n",
              "      <td>0.000000</td>\n",
              "      <td>1</td>\n",
              "    </tr>\n",
              "    <tr>\n",
              "      <th>3</th>\n",
              "      <td>0.013814</td>\n",
              "      <td>0.000332</td>\n",
              "      <td>0.004430</td>\n",
              "      <td>0.000071</td>\n",
              "      <td>0.1</td>\n",
              "      <td>auto</td>\n",
              "      <td>rbf</td>\n",
              "      <td>{'C': 0.1, 'gamma': 'auto', 'kernel': 'rbf'}</td>\n",
              "      <td>0.625</td>\n",
              "      <td>0.625</td>\n",
              "      <td>0.625</td>\n",
              "      <td>0.625</td>\n",
              "      <td>0.625</td>\n",
              "      <td>0.625</td>\n",
              "      <td>0.000000</td>\n",
              "      <td>13</td>\n",
              "      <td>0.625000</td>\n",
              "      <td>0.625</td>\n",
              "      <td>0.625000</td>\n",
              "      <td>0.625</td>\n",
              "      <td>0.625000</td>\n",
              "      <td>0.625000</td>\n",
              "      <td>0.000000</td>\n",
              "      <td>13</td>\n",
              "      <td>1.0</td>\n",
              "      <td>1.00</td>\n",
              "      <td>1.00</td>\n",
              "      <td>1.00</td>\n",
              "      <td>1.00</td>\n",
              "      <td>1.000</td>\n",
              "      <td>0.000000</td>\n",
              "      <td>1</td>\n",
              "    </tr>\n",
              "    <tr>\n",
              "      <th>1</th>\n",
              "      <td>0.012813</td>\n",
              "      <td>0.000972</td>\n",
              "      <td>0.004432</td>\n",
              "      <td>0.000145</td>\n",
              "      <td>0.1</td>\n",
              "      <td>scale</td>\n",
              "      <td>rbf</td>\n",
              "      <td>{'C': 0.1, 'gamma': 'scale', 'kernel': 'rbf'}</td>\n",
              "      <td>0.625</td>\n",
              "      <td>0.625</td>\n",
              "      <td>0.625</td>\n",
              "      <td>0.625</td>\n",
              "      <td>0.625</td>\n",
              "      <td>0.625</td>\n",
              "      <td>0.000000</td>\n",
              "      <td>13</td>\n",
              "      <td>0.625000</td>\n",
              "      <td>0.625</td>\n",
              "      <td>0.625000</td>\n",
              "      <td>0.625</td>\n",
              "      <td>0.625000</td>\n",
              "      <td>0.625000</td>\n",
              "      <td>0.000000</td>\n",
              "      <td>13</td>\n",
              "      <td>1.0</td>\n",
              "      <td>1.00</td>\n",
              "      <td>1.00</td>\n",
              "      <td>1.00</td>\n",
              "      <td>1.00</td>\n",
              "      <td>1.000</td>\n",
              "      <td>0.000000</td>\n",
              "      <td>1</td>\n",
              "    </tr>\n",
              "    <tr>\n",
              "      <th>7</th>\n",
              "      <td>0.014705</td>\n",
              "      <td>0.002171</td>\n",
              "      <td>0.004529</td>\n",
              "      <td>0.000431</td>\n",
              "      <td>0.1</td>\n",
              "      <td>1</td>\n",
              "      <td>rbf</td>\n",
              "      <td>{'C': 0.1, 'gamma': 1, 'kernel': 'rbf'}</td>\n",
              "      <td>0.625</td>\n",
              "      <td>0.625</td>\n",
              "      <td>0.625</td>\n",
              "      <td>0.625</td>\n",
              "      <td>0.625</td>\n",
              "      <td>0.625</td>\n",
              "      <td>0.000000</td>\n",
              "      <td>13</td>\n",
              "      <td>0.625000</td>\n",
              "      <td>0.625</td>\n",
              "      <td>0.625000</td>\n",
              "      <td>0.625</td>\n",
              "      <td>0.625000</td>\n",
              "      <td>0.625000</td>\n",
              "      <td>0.000000</td>\n",
              "      <td>13</td>\n",
              "      <td>1.0</td>\n",
              "      <td>1.00</td>\n",
              "      <td>1.00</td>\n",
              "      <td>1.00</td>\n",
              "      <td>1.00</td>\n",
              "      <td>1.000</td>\n",
              "      <td>0.000000</td>\n",
              "      <td>1</td>\n",
              "    </tr>\n",
              "    <tr>\n",
              "      <th>6</th>\n",
              "      <td>10.958546</td>\n",
              "      <td>5.834548</td>\n",
              "      <td>0.004006</td>\n",
              "      <td>0.000273</td>\n",
              "      <td>0.1</td>\n",
              "      <td>1</td>\n",
              "      <td>linear</td>\n",
              "      <td>{'C': 0.1, 'gamma': 1, 'kernel': 'linear'}</td>\n",
              "      <td>0.925</td>\n",
              "      <td>0.975</td>\n",
              "      <td>0.950</td>\n",
              "      <td>0.950</td>\n",
              "      <td>0.975</td>\n",
              "      <td>0.955</td>\n",
              "      <td>0.018708</td>\n",
              "      <td>5</td>\n",
              "      <td>0.892857</td>\n",
              "      <td>1.000</td>\n",
              "      <td>0.925926</td>\n",
              "      <td>0.960</td>\n",
              "      <td>1.000000</td>\n",
              "      <td>0.955757</td>\n",
              "      <td>0.041903</td>\n",
              "      <td>9</td>\n",
              "      <td>1.0</td>\n",
              "      <td>0.96</td>\n",
              "      <td>1.00</td>\n",
              "      <td>0.96</td>\n",
              "      <td>0.96</td>\n",
              "      <td>0.976</td>\n",
              "      <td>0.019596</td>\n",
              "      <td>13</td>\n",
              "    </tr>\n",
              "    <tr>\n",
              "      <th>4</th>\n",
              "      <td>10.958989</td>\n",
              "      <td>5.838649</td>\n",
              "      <td>0.003707</td>\n",
              "      <td>0.000231</td>\n",
              "      <td>0.1</td>\n",
              "      <td>0.1</td>\n",
              "      <td>linear</td>\n",
              "      <td>{'C': 0.1, 'gamma': 0.1, 'kernel': 'linear'}</td>\n",
              "      <td>0.925</td>\n",
              "      <td>0.975</td>\n",
              "      <td>0.950</td>\n",
              "      <td>0.950</td>\n",
              "      <td>0.975</td>\n",
              "      <td>0.955</td>\n",
              "      <td>0.018708</td>\n",
              "      <td>5</td>\n",
              "      <td>0.892857</td>\n",
              "      <td>1.000</td>\n",
              "      <td>0.925926</td>\n",
              "      <td>0.960</td>\n",
              "      <td>1.000000</td>\n",
              "      <td>0.955757</td>\n",
              "      <td>0.041903</td>\n",
              "      <td>9</td>\n",
              "      <td>1.0</td>\n",
              "      <td>0.96</td>\n",
              "      <td>1.00</td>\n",
              "      <td>0.96</td>\n",
              "      <td>0.96</td>\n",
              "      <td>0.976</td>\n",
              "      <td>0.019596</td>\n",
              "      <td>13</td>\n",
              "    </tr>\n",
              "    <tr>\n",
              "      <th>2</th>\n",
              "      <td>10.957015</td>\n",
              "      <td>5.835190</td>\n",
              "      <td>0.004020</td>\n",
              "      <td>0.000284</td>\n",
              "      <td>0.1</td>\n",
              "      <td>auto</td>\n",
              "      <td>linear</td>\n",
              "      <td>{'C': 0.1, 'gamma': 'auto', 'kernel': 'linear'}</td>\n",
              "      <td>0.925</td>\n",
              "      <td>0.975</td>\n",
              "      <td>0.950</td>\n",
              "      <td>0.950</td>\n",
              "      <td>0.975</td>\n",
              "      <td>0.955</td>\n",
              "      <td>0.018708</td>\n",
              "      <td>5</td>\n",
              "      <td>0.892857</td>\n",
              "      <td>1.000</td>\n",
              "      <td>0.925926</td>\n",
              "      <td>0.960</td>\n",
              "      <td>1.000000</td>\n",
              "      <td>0.955757</td>\n",
              "      <td>0.041903</td>\n",
              "      <td>9</td>\n",
              "      <td>1.0</td>\n",
              "      <td>0.96</td>\n",
              "      <td>1.00</td>\n",
              "      <td>0.96</td>\n",
              "      <td>0.96</td>\n",
              "      <td>0.976</td>\n",
              "      <td>0.019596</td>\n",
              "      <td>13</td>\n",
              "    </tr>\n",
              "    <tr>\n",
              "      <th>0</th>\n",
              "      <td>11.045805</td>\n",
              "      <td>5.832097</td>\n",
              "      <td>0.005169</td>\n",
              "      <td>0.001739</td>\n",
              "      <td>0.1</td>\n",
              "      <td>scale</td>\n",
              "      <td>linear</td>\n",
              "      <td>{'C': 0.1, 'gamma': 'scale', 'kernel': 'linear'}</td>\n",
              "      <td>0.925</td>\n",
              "      <td>0.975</td>\n",
              "      <td>0.950</td>\n",
              "      <td>0.950</td>\n",
              "      <td>0.975</td>\n",
              "      <td>0.955</td>\n",
              "      <td>0.018708</td>\n",
              "      <td>5</td>\n",
              "      <td>0.892857</td>\n",
              "      <td>1.000</td>\n",
              "      <td>0.925926</td>\n",
              "      <td>0.960</td>\n",
              "      <td>1.000000</td>\n",
              "      <td>0.955757</td>\n",
              "      <td>0.041903</td>\n",
              "      <td>9</td>\n",
              "      <td>1.0</td>\n",
              "      <td>0.96</td>\n",
              "      <td>1.00</td>\n",
              "      <td>0.96</td>\n",
              "      <td>0.96</td>\n",
              "      <td>0.976</td>\n",
              "      <td>0.019596</td>\n",
              "      <td>13</td>\n",
              "    </tr>\n",
              "    <tr>\n",
              "      <th>22</th>\n",
              "      <td>22.735974</td>\n",
              "      <td>6.121875</td>\n",
              "      <td>0.003917</td>\n",
              "      <td>0.000325</td>\n",
              "      <td>10</td>\n",
              "      <td>1</td>\n",
              "      <td>linear</td>\n",
              "      <td>{'C': 10, 'gamma': 1, 'kernel': 'linear'}</td>\n",
              "      <td>0.975</td>\n",
              "      <td>0.975</td>\n",
              "      <td>0.900</td>\n",
              "      <td>0.950</td>\n",
              "      <td>0.975</td>\n",
              "      <td>0.955</td>\n",
              "      <td>0.029155</td>\n",
              "      <td>5</td>\n",
              "      <td>0.961538</td>\n",
              "      <td>1.000</td>\n",
              "      <td>0.888889</td>\n",
              "      <td>0.960</td>\n",
              "      <td>1.000000</td>\n",
              "      <td>0.962085</td>\n",
              "      <td>0.040589</td>\n",
              "      <td>5</td>\n",
              "      <td>1.0</td>\n",
              "      <td>0.96</td>\n",
              "      <td>0.96</td>\n",
              "      <td>0.96</td>\n",
              "      <td>0.96</td>\n",
              "      <td>0.968</td>\n",
              "      <td>0.016000</td>\n",
              "      <td>21</td>\n",
              "    </tr>\n",
              "    <tr>\n",
              "      <th>16</th>\n",
              "      <td>22.739177</td>\n",
              "      <td>6.134479</td>\n",
              "      <td>0.003670</td>\n",
              "      <td>0.000072</td>\n",
              "      <td>10</td>\n",
              "      <td>scale</td>\n",
              "      <td>linear</td>\n",
              "      <td>{'C': 10, 'gamma': 'scale', 'kernel': 'linear'}</td>\n",
              "      <td>0.975</td>\n",
              "      <td>0.975</td>\n",
              "      <td>0.900</td>\n",
              "      <td>0.950</td>\n",
              "      <td>0.975</td>\n",
              "      <td>0.955</td>\n",
              "      <td>0.029155</td>\n",
              "      <td>5</td>\n",
              "      <td>0.961538</td>\n",
              "      <td>1.000</td>\n",
              "      <td>0.888889</td>\n",
              "      <td>0.960</td>\n",
              "      <td>1.000000</td>\n",
              "      <td>0.962085</td>\n",
              "      <td>0.040589</td>\n",
              "      <td>5</td>\n",
              "      <td>1.0</td>\n",
              "      <td>0.96</td>\n",
              "      <td>0.96</td>\n",
              "      <td>0.96</td>\n",
              "      <td>0.96</td>\n",
              "      <td>0.968</td>\n",
              "      <td>0.016000</td>\n",
              "      <td>21</td>\n",
              "    </tr>\n",
              "    <tr>\n",
              "      <th>18</th>\n",
              "      <td>22.754805</td>\n",
              "      <td>6.141346</td>\n",
              "      <td>0.003606</td>\n",
              "      <td>0.000057</td>\n",
              "      <td>10</td>\n",
              "      <td>auto</td>\n",
              "      <td>linear</td>\n",
              "      <td>{'C': 10, 'gamma': 'auto', 'kernel': 'linear'}</td>\n",
              "      <td>0.975</td>\n",
              "      <td>0.975</td>\n",
              "      <td>0.900</td>\n",
              "      <td>0.950</td>\n",
              "      <td>0.975</td>\n",
              "      <td>0.955</td>\n",
              "      <td>0.029155</td>\n",
              "      <td>5</td>\n",
              "      <td>0.961538</td>\n",
              "      <td>1.000</td>\n",
              "      <td>0.888889</td>\n",
              "      <td>0.960</td>\n",
              "      <td>1.000000</td>\n",
              "      <td>0.962085</td>\n",
              "      <td>0.040589</td>\n",
              "      <td>5</td>\n",
              "      <td>1.0</td>\n",
              "      <td>0.96</td>\n",
              "      <td>0.96</td>\n",
              "      <td>0.96</td>\n",
              "      <td>0.96</td>\n",
              "      <td>0.968</td>\n",
              "      <td>0.016000</td>\n",
              "      <td>21</td>\n",
              "    </tr>\n",
              "    <tr>\n",
              "      <th>20</th>\n",
              "      <td>22.712635</td>\n",
              "      <td>6.158482</td>\n",
              "      <td>0.003728</td>\n",
              "      <td>0.000246</td>\n",
              "      <td>10</td>\n",
              "      <td>0.1</td>\n",
              "      <td>linear</td>\n",
              "      <td>{'C': 10, 'gamma': 0.1, 'kernel': 'linear'}</td>\n",
              "      <td>0.975</td>\n",
              "      <td>0.975</td>\n",
              "      <td>0.900</td>\n",
              "      <td>0.950</td>\n",
              "      <td>0.975</td>\n",
              "      <td>0.955</td>\n",
              "      <td>0.029155</td>\n",
              "      <td>5</td>\n",
              "      <td>0.961538</td>\n",
              "      <td>1.000</td>\n",
              "      <td>0.888889</td>\n",
              "      <td>0.960</td>\n",
              "      <td>1.000000</td>\n",
              "      <td>0.962085</td>\n",
              "      <td>0.040589</td>\n",
              "      <td>5</td>\n",
              "      <td>1.0</td>\n",
              "      <td>0.96</td>\n",
              "      <td>0.96</td>\n",
              "      <td>0.96</td>\n",
              "      <td>0.96</td>\n",
              "      <td>0.968</td>\n",
              "      <td>0.016000</td>\n",
              "      <td>21</td>\n",
              "    </tr>\n",
              "    <tr>\n",
              "      <th>8</th>\n",
              "      <td>13.071904</td>\n",
              "      <td>3.722648</td>\n",
              "      <td>0.003775</td>\n",
              "      <td>0.000167</td>\n",
              "      <td>1</td>\n",
              "      <td>scale</td>\n",
              "      <td>linear</td>\n",
              "      <td>{'C': 1, 'gamma': 'scale', 'kernel': 'linear'}</td>\n",
              "      <td>0.975</td>\n",
              "      <td>0.975</td>\n",
              "      <td>0.925</td>\n",
              "      <td>0.950</td>\n",
              "      <td>0.975</td>\n",
              "      <td>0.960</td>\n",
              "      <td>0.020000</td>\n",
              "      <td>1</td>\n",
              "      <td>0.961538</td>\n",
              "      <td>1.000</td>\n",
              "      <td>0.892857</td>\n",
              "      <td>0.960</td>\n",
              "      <td>1.000000</td>\n",
              "      <td>0.962879</td>\n",
              "      <td>0.039164</td>\n",
              "      <td>1</td>\n",
              "      <td>1.0</td>\n",
              "      <td>0.96</td>\n",
              "      <td>1.00</td>\n",
              "      <td>0.96</td>\n",
              "      <td>0.96</td>\n",
              "      <td>0.976</td>\n",
              "      <td>0.019596</td>\n",
              "      <td>13</td>\n",
              "    </tr>\n",
              "    <tr>\n",
              "      <th>10</th>\n",
              "      <td>13.083874</td>\n",
              "      <td>3.741367</td>\n",
              "      <td>0.003746</td>\n",
              "      <td>0.000142</td>\n",
              "      <td>1</td>\n",
              "      <td>auto</td>\n",
              "      <td>linear</td>\n",
              "      <td>{'C': 1, 'gamma': 'auto', 'kernel': 'linear'}</td>\n",
              "      <td>0.975</td>\n",
              "      <td>0.975</td>\n",
              "      <td>0.925</td>\n",
              "      <td>0.950</td>\n",
              "      <td>0.975</td>\n",
              "      <td>0.960</td>\n",
              "      <td>0.020000</td>\n",
              "      <td>1</td>\n",
              "      <td>0.961538</td>\n",
              "      <td>1.000</td>\n",
              "      <td>0.892857</td>\n",
              "      <td>0.960</td>\n",
              "      <td>1.000000</td>\n",
              "      <td>0.962879</td>\n",
              "      <td>0.039164</td>\n",
              "      <td>1</td>\n",
              "      <td>1.0</td>\n",
              "      <td>0.96</td>\n",
              "      <td>1.00</td>\n",
              "      <td>0.96</td>\n",
              "      <td>0.96</td>\n",
              "      <td>0.976</td>\n",
              "      <td>0.019596</td>\n",
              "      <td>13</td>\n",
              "    </tr>\n",
              "    <tr>\n",
              "      <th>12</th>\n",
              "      <td>13.054986</td>\n",
              "      <td>3.705576</td>\n",
              "      <td>0.003936</td>\n",
              "      <td>0.000350</td>\n",
              "      <td>1</td>\n",
              "      <td>0.1</td>\n",
              "      <td>linear</td>\n",
              "      <td>{'C': 1, 'gamma': 0.1, 'kernel': 'linear'}</td>\n",
              "      <td>0.975</td>\n",
              "      <td>0.975</td>\n",
              "      <td>0.925</td>\n",
              "      <td>0.950</td>\n",
              "      <td>0.975</td>\n",
              "      <td>0.960</td>\n",
              "      <td>0.020000</td>\n",
              "      <td>1</td>\n",
              "      <td>0.961538</td>\n",
              "      <td>1.000</td>\n",
              "      <td>0.892857</td>\n",
              "      <td>0.960</td>\n",
              "      <td>1.000000</td>\n",
              "      <td>0.962879</td>\n",
              "      <td>0.039164</td>\n",
              "      <td>1</td>\n",
              "      <td>1.0</td>\n",
              "      <td>0.96</td>\n",
              "      <td>1.00</td>\n",
              "      <td>0.96</td>\n",
              "      <td>0.96</td>\n",
              "      <td>0.976</td>\n",
              "      <td>0.019596</td>\n",
              "      <td>13</td>\n",
              "    </tr>\n",
              "    <tr>\n",
              "      <th>14</th>\n",
              "      <td>13.063724</td>\n",
              "      <td>3.694994</td>\n",
              "      <td>0.003776</td>\n",
              "      <td>0.000226</td>\n",
              "      <td>1</td>\n",
              "      <td>1</td>\n",
              "      <td>linear</td>\n",
              "      <td>{'C': 1, 'gamma': 1, 'kernel': 'linear'}</td>\n",
              "      <td>0.975</td>\n",
              "      <td>0.975</td>\n",
              "      <td>0.925</td>\n",
              "      <td>0.950</td>\n",
              "      <td>0.975</td>\n",
              "      <td>0.960</td>\n",
              "      <td>0.020000</td>\n",
              "      <td>1</td>\n",
              "      <td>0.961538</td>\n",
              "      <td>1.000</td>\n",
              "      <td>0.892857</td>\n",
              "      <td>0.960</td>\n",
              "      <td>1.000000</td>\n",
              "      <td>0.962879</td>\n",
              "      <td>0.039164</td>\n",
              "      <td>1</td>\n",
              "      <td>1.0</td>\n",
              "      <td>0.96</td>\n",
              "      <td>1.00</td>\n",
              "      <td>0.96</td>\n",
              "      <td>0.96</td>\n",
              "      <td>0.976</td>\n",
              "      <td>0.019596</td>\n",
              "      <td>13</td>\n",
              "    </tr>\n",
              "  </tbody>\n",
              "</table>\n",
              "</div>"
            ],
            "text/plain": [
              "    mean_fit_time  std_fit_time  ...  std_test_recall  rank_test_recall\n",
              "17       0.015132      0.001484  ...         0.016000                12\n",
              "11       0.014510      0.000373  ...         0.000000                 1\n",
              "21       0.013161      0.000361  ...         0.000000                 1\n",
              "19       0.014151      0.000542  ...         0.000000                 1\n",
              "15       0.013640      0.000794  ...         0.000000                 1\n",
              "13       0.014657      0.000663  ...         0.000000                 1\n",
              "9        0.017748      0.005615  ...         0.000000                 1\n",
              "23       0.012360      0.001686  ...         0.000000                 1\n",
              "5        0.014021      0.000521  ...         0.000000                 1\n",
              "3        0.013814      0.000332  ...         0.000000                 1\n",
              "1        0.012813      0.000972  ...         0.000000                 1\n",
              "7        0.014705      0.002171  ...         0.000000                 1\n",
              "6       10.958546      5.834548  ...         0.019596                13\n",
              "4       10.958989      5.838649  ...         0.019596                13\n",
              "2       10.957015      5.835190  ...         0.019596                13\n",
              "0       11.045805      5.832097  ...         0.019596                13\n",
              "22      22.735974      6.121875  ...         0.016000                21\n",
              "16      22.739177      6.134479  ...         0.016000                21\n",
              "18      22.754805      6.141346  ...         0.016000                21\n",
              "20      22.712635      6.158482  ...         0.016000                21\n",
              "8       13.071904      3.722648  ...         0.019596                13\n",
              "10      13.083874      3.741367  ...         0.019596                13\n",
              "12      13.054986      3.705576  ...         0.019596                13\n",
              "14      13.063724      3.694994  ...         0.019596                13\n",
              "\n",
              "[24 rows x 32 columns]"
            ]
          },
          "metadata": {},
          "execution_count": 335
        }
      ]
    },
    {
      "cell_type": "code",
      "metadata": {
        "colab": {
          "base_uri": "https://localhost:8080/"
        },
        "id": "4sluzfeu5jjA",
        "outputId": "c76fc604-06d7-48c1-a807-9197a5814e6c"
      },
      "source": [
        "svm_model=svm.SVC(kernel='rbf',C=0.1)\n",
        "svm_model.fit(x_train,y_train)\n",
        "pred=svm_model.predict(x_test)\n",
        "print('the accuracy of this model is :',metrics.accuracy_score(y_test,pred))\n"
      ],
      "execution_count": null,
      "outputs": [
        {
          "output_type": "stream",
          "name": "stdout",
          "text": [
            "the accuracy of this model is : 1.0\n"
          ]
        }
      ]
    },
    {
      "cell_type": "markdown",
      "metadata": {
        "id": "kheX4-ILI6EP"
      },
      "source": [
        "best model is the svc rbf tuning at c=0.1"
      ]
    }
  ]
}